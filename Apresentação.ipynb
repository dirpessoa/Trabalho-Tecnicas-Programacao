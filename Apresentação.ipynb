{
 "cells": [
  {
   "cell_type": "markdown",
   "metadata": {},
   "source": [
    "# Setup"
   ]
  },
  {
   "cell_type": "code",
   "execution_count": 47,
   "metadata": {},
   "outputs": [],
   "source": [
    "import pandas as pd\n",
    "import seaborn as sns\n",
    "import matplotlib.pyplot as plt\n",
    "from scipy import stats\n",
    "import numpy as np"
   ]
  },
  {
   "cell_type": "markdown",
   "metadata": {},
   "source": [
    "# Import dos dados"
   ]
  },
  {
   "cell_type": "code",
   "execution_count": 2,
   "metadata": {},
   "outputs": [],
   "source": [
    "# Dataset dos filmes\n",
    "df_f_movies = pd.read_csv('fmovies.csv', index_col = False)"
   ]
  },
  {
   "cell_type": "code",
   "execution_count": 3,
   "metadata": {},
   "outputs": [
    {
     "data": {
      "text/html": [
       "<div>\n",
       "<style scoped>\n",
       "    .dataframe tbody tr th:only-of-type {\n",
       "        vertical-align: middle;\n",
       "    }\n",
       "\n",
       "    .dataframe tbody tr th {\n",
       "        vertical-align: top;\n",
       "    }\n",
       "\n",
       "    .dataframe thead th {\n",
       "        text-align: right;\n",
       "    }\n",
       "</style>\n",
       "<table border=\"1\" class=\"dataframe\">\n",
       "  <thead>\n",
       "    <tr style=\"text-align: right;\">\n",
       "      <th></th>\n",
       "      <th>Unnamed: 0</th>\n",
       "      <th>Rank</th>\n",
       "      <th>Film</th>\n",
       "      <th>Year</th>\n",
       "      <th>Count</th>\n",
       "      <th>Running time\\n(minutes)</th>\n",
       "      <th>title_processed</th>\n",
       "      <th>movieId</th>\n",
       "      <th>title</th>\n",
       "      <th>genres</th>\n",
       "      <th>Mean</th>\n",
       "      <th>Count_ratings</th>\n",
       "    </tr>\n",
       "  </thead>\n",
       "  <tbody>\n",
       "    <tr>\n",
       "      <th>0</th>\n",
       "      <td>0</td>\n",
       "      <td>1.0</td>\n",
       "      <td>Swearnet: The Movie</td>\n",
       "      <td>2014</td>\n",
       "      <td>935</td>\n",
       "      <td>112</td>\n",
       "      <td>swearnetthemovie</td>\n",
       "      <td>132132</td>\n",
       "      <td>Swearnet: The Movie (2014)</td>\n",
       "      <td>Comedy</td>\n",
       "      <td>3.1</td>\n",
       "      <td>15</td>\n",
       "    </tr>\n",
       "  </tbody>\n",
       "</table>\n",
       "</div>"
      ],
      "text/plain": [
       "   Unnamed: 0  Rank                 Film  Year  Count  \\\n",
       "0           0   1.0  Swearnet: The Movie  2014    935   \n",
       "\n",
       "   Running time\\n(minutes)   title_processed  movieId  \\\n",
       "0                      112  swearnetthemovie   132132   \n",
       "\n",
       "                        title  genres  Mean  Count_ratings  \n",
       "0  Swearnet: The Movie (2014)  Comedy   3.1             15  "
      ]
     },
     "execution_count": 3,
     "metadata": {},
     "output_type": "execute_result"
    }
   ],
   "source": [
    "df_f_movies.head(1)"
   ]
  },
  {
   "cell_type": "code",
   "execution_count": 4,
   "metadata": {},
   "outputs": [
    {
     "data": {
      "text/plain": [
       "(132, 12)"
      ]
     },
     "execution_count": 4,
     "metadata": {},
     "output_type": "execute_result"
    }
   ],
   "source": [
    "df_f_movies.shape"
   ]
  },
  {
   "cell_type": "code",
   "execution_count": 5,
   "metadata": {},
   "outputs": [],
   "source": [
    "df_f_movies.drop(columns = 'Unnamed: 0', inplace = True)"
   ]
  },
  {
   "cell_type": "code",
   "execution_count": 6,
   "metadata": {},
   "outputs": [
    {
     "data": {
      "text/html": [
       "<div>\n",
       "<style scoped>\n",
       "    .dataframe tbody tr th:only-of-type {\n",
       "        vertical-align: middle;\n",
       "    }\n",
       "\n",
       "    .dataframe tbody tr th {\n",
       "        vertical-align: top;\n",
       "    }\n",
       "\n",
       "    .dataframe thead th {\n",
       "        text-align: right;\n",
       "    }\n",
       "</style>\n",
       "<table border=\"1\" class=\"dataframe\">\n",
       "  <thead>\n",
       "    <tr style=\"text-align: right;\">\n",
       "      <th></th>\n",
       "      <th>Rank</th>\n",
       "      <th>Film</th>\n",
       "      <th>Year</th>\n",
       "      <th>Count</th>\n",
       "      <th>Running time\\n(minutes)</th>\n",
       "      <th>title_processed</th>\n",
       "      <th>movieId</th>\n",
       "      <th>title</th>\n",
       "      <th>genres</th>\n",
       "      <th>Mean</th>\n",
       "      <th>Count_ratings</th>\n",
       "    </tr>\n",
       "  </thead>\n",
       "  <tbody>\n",
       "    <tr>\n",
       "      <th>0</th>\n",
       "      <td>1.0</td>\n",
       "      <td>Swearnet: The Movie</td>\n",
       "      <td>2014</td>\n",
       "      <td>935</td>\n",
       "      <td>112</td>\n",
       "      <td>swearnetthemovie</td>\n",
       "      <td>132132</td>\n",
       "      <td>Swearnet: The Movie (2014)</td>\n",
       "      <td>Comedy</td>\n",
       "      <td>3.1</td>\n",
       "      <td>15</td>\n",
       "    </tr>\n",
       "  </tbody>\n",
       "</table>\n",
       "</div>"
      ],
      "text/plain": [
       "   Rank                 Film  Year  Count  Running time\\n(minutes)  \\\n",
       "0   1.0  Swearnet: The Movie  2014    935                      112   \n",
       "\n",
       "    title_processed  movieId                       title  genres  Mean  \\\n",
       "0  swearnetthemovie   132132  Swearnet: The Movie (2014)  Comedy   3.1   \n",
       "\n",
       "   Count_ratings  \n",
       "0             15  "
      ]
     },
     "execution_count": 6,
     "metadata": {},
     "output_type": "execute_result"
    }
   ],
   "source": [
    "df_f_movies.head(1)"
   ]
  },
  {
   "cell_type": "code",
   "execution_count": 1,
   "metadata": {},
   "outputs": [
    {
     "name": "stdout",
     "output_type": "stream",
     "text": [
      "Apresentação.ipynb\tf_movies.csv  ml-25m\t  rating.csv\r\n",
      "criação_datasets.ipynb\tfmovies.csv   ml-25m.zip\r\n"
     ]
    }
   ],
   "source": [
    "!ls"
   ]
  },
  {
   "cell_type": "markdown",
   "metadata": {},
   "source": [
    "# Distribuição das notas"
   ]
  },
  {
   "cell_type": "code",
   "execution_count": 7,
   "metadata": {},
   "outputs": [
    {
     "data": {
      "text/html": [
       "<div>\n",
       "<style scoped>\n",
       "    .dataframe tbody tr th:only-of-type {\n",
       "        vertical-align: middle;\n",
       "    }\n",
       "\n",
       "    .dataframe tbody tr th {\n",
       "        vertical-align: top;\n",
       "    }\n",
       "\n",
       "    .dataframe thead th {\n",
       "        text-align: right;\n",
       "    }\n",
       "</style>\n",
       "<table border=\"1\" class=\"dataframe\">\n",
       "  <thead>\n",
       "    <tr style=\"text-align: right;\">\n",
       "      <th></th>\n",
       "      <th>Rank</th>\n",
       "      <th>Film</th>\n",
       "      <th>Year</th>\n",
       "      <th>Count</th>\n",
       "      <th>Running time\\n(minutes)</th>\n",
       "      <th>title_processed</th>\n",
       "      <th>movieId</th>\n",
       "      <th>title</th>\n",
       "      <th>genres</th>\n",
       "      <th>Mean</th>\n",
       "      <th>Count_ratings</th>\n",
       "    </tr>\n",
       "  </thead>\n",
       "  <tbody>\n",
       "    <tr>\n",
       "      <th>0</th>\n",
       "      <td>1.0</td>\n",
       "      <td>Swearnet: The Movie</td>\n",
       "      <td>2014</td>\n",
       "      <td>935</td>\n",
       "      <td>112</td>\n",
       "      <td>swearnetthemovie</td>\n",
       "      <td>132132</td>\n",
       "      <td>Swearnet: The Movie (2014)</td>\n",
       "      <td>Comedy</td>\n",
       "      <td>3.1</td>\n",
       "      <td>15</td>\n",
       "    </tr>\n",
       "  </tbody>\n",
       "</table>\n",
       "</div>"
      ],
      "text/plain": [
       "   Rank                 Film  Year  Count  Running time\\n(minutes)  \\\n",
       "0   1.0  Swearnet: The Movie  2014    935                      112   \n",
       "\n",
       "    title_processed  movieId                       title  genres  Mean  \\\n",
       "0  swearnetthemovie   132132  Swearnet: The Movie (2014)  Comedy   3.1   \n",
       "\n",
       "   Count_ratings  \n",
       "0             15  "
      ]
     },
     "execution_count": 7,
     "metadata": {},
     "output_type": "execute_result"
    }
   ],
   "source": [
    "df_f_movies.head(1)"
   ]
  },
  {
   "cell_type": "code",
   "execution_count": 9,
   "metadata": {},
   "outputs": [
    {
     "data": {
      "text/plain": [
       "<matplotlib.axes._subplots.AxesSubplot at 0x7f0403551950>"
      ]
     },
     "execution_count": 9,
     "metadata": {},
     "output_type": "execute_result"
    },
    {
     "data": {
      "image/png": "[encoded data removed]",
      "text/plain": [
       "<Figure size 432x288 with 1 Axes>"
      ]
     },
     "metadata": {},
     "output_type": "display_data"
    }
   ],
   "source": [
    "sns.set_style('whitegrid')\n",
    "sns.kdeplot(df_f_movies['Mean'], bw=0.5)"
   ]
  },
  {
   "cell_type": "code",
   "execution_count": 21,
   "metadata": {},
   "outputs": [
    {
     "data": {
      "text/plain": [
       "count    132.000000\n",
       "mean       3.284216\n",
       "std        0.520599\n",
       "min        1.125000\n",
       "25%        3.085717\n",
       "50%        3.335093\n",
       "75%        3.633288\n",
       "max        4.188912\n",
       "Name: Mean, dtype: float64"
      ]
     },
     "execution_count": 21,
     "metadata": {},
     "output_type": "execute_result"
    }
   ],
   "source": [
    "df_f_movies['Mean'].describe()"
   ]
  },
  {
   "cell_type": "markdown",
   "metadata": {},
   "source": [
    "## Distribuição geral dos ratings"
   ]
  },
  {
   "cell_type": "code",
   "execution_count": 11,
   "metadata": {},
   "outputs": [],
   "source": [
    "df_ratings = pd.read_csv('rating.csv')"
   ]
  },
  {
   "cell_type": "code",
   "execution_count": 13,
   "metadata": {},
   "outputs": [],
   "source": [
    "df_ratings = df_ratings[['movieId', 'Mean', 'Count_ratings']]"
   ]
  },
  {
   "cell_type": "code",
   "execution_count": 14,
   "metadata": {},
   "outputs": [
    {
     "data": {
      "text/plain": [
       "<matplotlib.axes._subplots.AxesSubplot at 0x7f0401e9b390>"
      ]
     },
     "execution_count": 14,
     "metadata": {},
     "output_type": "execute_result"
    },
    {
     "data": {
      "image/png": "[encoded data removed]",
      "text/plain": [
       "<Figure size 432x288 with 1 Axes>"
      ]
     },
     "metadata": {},
     "output_type": "display_data"
    }
   ],
   "source": [
    "sns.set_style('whitegrid')\n",
    "sns.kdeplot(df_ratings['Mean'], bw=0.5)"
   ]
  },
  {
   "cell_type": "code",
   "execution_count": 22,
   "metadata": {},
   "outputs": [
    {
     "data": {
      "text/plain": [
       "count    59047.000000\n",
       "mean         3.071374\n",
       "std          0.739840\n",
       "min          0.500000\n",
       "25%          2.687500\n",
       "50%          3.150000\n",
       "75%          3.500000\n",
       "max          5.000000\n",
       "Name: Mean, dtype: float64"
      ]
     },
     "execution_count": 22,
     "metadata": {},
     "output_type": "execute_result"
    }
   ],
   "source": [
    "df_ratings['Mean'].describe()"
   ]
  },
  {
   "cell_type": "markdown",
   "metadata": {},
   "source": [
    "### Comparação das notas"
   ]
  },
  {
   "cell_type": "code",
   "execution_count": 25,
   "metadata": {},
   "outputs": [
    {
     "data": {
      "image/png": "[encoded data removed]",
      "text/plain": [
       "<Figure size 1152x648 with 1 Axes>"
      ]
     },
     "metadata": {},
     "output_type": "display_data"
    }
   ],
   "source": [
    "fig = plt.figure(figsize=(16,9))\n",
    "ax = fig.add_subplot(111)\n",
    "\n",
    "sns.distplot(df_f_movies['Mean'], kde=True, ax = ax, hist=False, bins = 10, color = 'b')# f_movies\n",
    "sns.distplot(df_ratings['Mean'], kde=True, ax = ax, hist=False, bins = 10, color = 'g')# Filmes gerais\n",
    "\n",
    "plt.show()"
   ]
  },
  {
   "cell_type": "raw",
   "metadata": {},
   "source": [
    "Como podemos ver no gráfico acima e nos anteriores, a média dos ratings dos filmes que tem a palavra f* tem uma média ligeiramente maior. Entretanto, apenas com o gráfico não é possível inferir que essa diferença é estatisticamente relevante."
   ]
  },
  {
   "cell_type": "markdown",
   "metadata": {},
   "source": [
    "# Relação entre quantidade de vezes que aparece a palavra f*  x rating"
   ]
  },
  {
   "cell_type": "code",
   "execution_count": 26,
   "metadata": {},
   "outputs": [
    {
     "data": {
      "text/html": [
       "<div>\n",
       "<style scoped>\n",
       "    .dataframe tbody tr th:only-of-type {\n",
       "        vertical-align: middle;\n",
       "    }\n",
       "\n",
       "    .dataframe tbody tr th {\n",
       "        vertical-align: top;\n",
       "    }\n",
       "\n",
       "    .dataframe thead th {\n",
       "        text-align: right;\n",
       "    }\n",
       "</style>\n",
       "<table border=\"1\" class=\"dataframe\">\n",
       "  <thead>\n",
       "    <tr style=\"text-align: right;\">\n",
       "      <th></th>\n",
       "      <th>Rank</th>\n",
       "      <th>Film</th>\n",
       "      <th>Year</th>\n",
       "      <th>Count</th>\n",
       "      <th>Running time\\n(minutes)</th>\n",
       "      <th>title_processed</th>\n",
       "      <th>movieId</th>\n",
       "      <th>title</th>\n",
       "      <th>genres</th>\n",
       "      <th>Mean</th>\n",
       "      <th>Count_ratings</th>\n",
       "    </tr>\n",
       "  </thead>\n",
       "  <tbody>\n",
       "    <tr>\n",
       "      <th>0</th>\n",
       "      <td>1.0</td>\n",
       "      <td>Swearnet: The Movie</td>\n",
       "      <td>2014</td>\n",
       "      <td>935</td>\n",
       "      <td>112</td>\n",
       "      <td>swearnetthemovie</td>\n",
       "      <td>132132</td>\n",
       "      <td>Swearnet: The Movie (2014)</td>\n",
       "      <td>Comedy</td>\n",
       "      <td>3.100000</td>\n",
       "      <td>15</td>\n",
       "    </tr>\n",
       "    <tr>\n",
       "      <th>1</th>\n",
       "      <td>5.0</td>\n",
       "      <td>Summer of Sam</td>\n",
       "      <td>1999</td>\n",
       "      <td>435</td>\n",
       "      <td>142</td>\n",
       "      <td>summerofsam</td>\n",
       "      <td>2702</td>\n",
       "      <td>Summer of Sam (1999)</td>\n",
       "      <td>Drama</td>\n",
       "      <td>3.079622</td>\n",
       "      <td>2964</td>\n",
       "    </tr>\n",
       "    <tr>\n",
       "      <th>2</th>\n",
       "      <td>6.0</td>\n",
       "      <td>Nil by Mouth</td>\n",
       "      <td>1997</td>\n",
       "      <td>428</td>\n",
       "      <td>128</td>\n",
       "      <td>nilbymouth</td>\n",
       "      <td>1846</td>\n",
       "      <td>Nil By Mouth (1997)</td>\n",
       "      <td>Drama</td>\n",
       "      <td>3.518707</td>\n",
       "      <td>294</td>\n",
       "    </tr>\n",
       "    <tr>\n",
       "      <th>3</th>\n",
       "      <td>7.0</td>\n",
       "      <td>Casino</td>\n",
       "      <td>1995</td>\n",
       "      <td>422</td>\n",
       "      <td>178</td>\n",
       "      <td>casino</td>\n",
       "      <td>16</td>\n",
       "      <td>Casino (1995)</td>\n",
       "      <td>Crime|Drama</td>\n",
       "      <td>3.823707</td>\n",
       "      <td>18404</td>\n",
       "    </tr>\n",
       "    <tr>\n",
       "      <th>4</th>\n",
       "      <td>8.0</td>\n",
       "      <td>Alpha Dog</td>\n",
       "      <td>2006</td>\n",
       "      <td>420</td>\n",
       "      <td>118</td>\n",
       "      <td>alphadog</td>\n",
       "      <td>50442</td>\n",
       "      <td>Alpha Dog (2007)</td>\n",
       "      <td>Crime|Drama</td>\n",
       "      <td>3.271728</td>\n",
       "      <td>955</td>\n",
       "    </tr>\n",
       "    <tr>\n",
       "      <th>5</th>\n",
       "      <td>9.0</td>\n",
       "      <td>Straight Outta Compton</td>\n",
       "      <td>2015</td>\n",
       "      <td>392</td>\n",
       "      <td>167</td>\n",
       "      <td>straightouttacompton</td>\n",
       "      <td>140715</td>\n",
       "      <td>Straight Outta Compton (2015)</td>\n",
       "      <td>Drama</td>\n",
       "      <td>3.694366</td>\n",
       "      <td>1420</td>\n",
       "    </tr>\n",
       "    <tr>\n",
       "      <th>6</th>\n",
       "      <td>11.0</td>\n",
       "      <td>Starred Up</td>\n",
       "      <td>2013</td>\n",
       "      <td>337</td>\n",
       "      <td>106</td>\n",
       "      <td>starredup</td>\n",
       "      <td>110110</td>\n",
       "      <td>Starred Up (2013)</td>\n",
       "      <td>Drama</td>\n",
       "      <td>3.663580</td>\n",
       "      <td>324</td>\n",
       "    </tr>\n",
       "    <tr>\n",
       "      <th>7</th>\n",
       "      <td>12.0</td>\n",
       "      <td>End of Watch</td>\n",
       "      <td>2012</td>\n",
       "      <td>326</td>\n",
       "      <td>109</td>\n",
       "      <td>endofwatch</td>\n",
       "      <td>96811</td>\n",
       "      <td>End of Watch (2012)</td>\n",
       "      <td>Crime|Drama|Thriller</td>\n",
       "      <td>3.812533</td>\n",
       "      <td>1915</td>\n",
       "    </tr>\n",
       "    <tr>\n",
       "      <th>8</th>\n",
       "      <td>15.0</td>\n",
       "      <td>Twin Town</td>\n",
       "      <td>1997</td>\n",
       "      <td>318</td>\n",
       "      <td>99</td>\n",
       "      <td>twintown</td>\n",
       "      <td>1539</td>\n",
       "      <td>Twin Town (1997)</td>\n",
       "      <td>Comedy|Crime</td>\n",
       "      <td>3.104015</td>\n",
       "      <td>274</td>\n",
       "    </tr>\n",
       "    <tr>\n",
       "      <th>9</th>\n",
       "      <td>18.0</td>\n",
       "      <td>Martin Lawrence Live: Runteldat</td>\n",
       "      <td>2002</td>\n",
       "      <td>311</td>\n",
       "      <td>113</td>\n",
       "      <td>martinlawrenceliverunteldat</td>\n",
       "      <td>5513</td>\n",
       "      <td>Martin Lawrence Live: Runteldat (2002)</td>\n",
       "      <td>Comedy|Documentary</td>\n",
       "      <td>2.345528</td>\n",
       "      <td>123</td>\n",
       "    </tr>\n",
       "  </tbody>\n",
       "</table>\n",
       "</div>"
      ],
      "text/plain": [
       "   Rank                             Film  Year  Count  \\\n",
       "0   1.0              Swearnet: The Movie  2014    935   \n",
       "1   5.0                    Summer of Sam  1999    435   \n",
       "2   6.0                     Nil by Mouth  1997    428   \n",
       "3   7.0                           Casino  1995    422   \n",
       "4   8.0                        Alpha Dog  2006    420   \n",
       "5   9.0           Straight Outta Compton  2015    392   \n",
       "6  11.0                       Starred Up  2013    337   \n",
       "7  12.0                     End of Watch  2012    326   \n",
       "8  15.0                        Twin Town  1997    318   \n",
       "9  18.0  Martin Lawrence Live: Runteldat  2002    311   \n",
       "\n",
       "   Running time\\n(minutes)              title_processed  movieId  \\\n",
       "0                      112             swearnetthemovie   132132   \n",
       "1                      142                  summerofsam     2702   \n",
       "2                      128                   nilbymouth     1846   \n",
       "3                      178                       casino       16   \n",
       "4                      118                     alphadog    50442   \n",
       "5                      167         straightouttacompton   140715   \n",
       "6                      106                    starredup   110110   \n",
       "7                      109                   endofwatch    96811   \n",
       "8                       99                     twintown     1539   \n",
       "9                      113  martinlawrenceliverunteldat     5513   \n",
       "\n",
       "                                    title                genres      Mean  \\\n",
       "0              Swearnet: The Movie (2014)                Comedy  3.100000   \n",
       "1                    Summer of Sam (1999)                 Drama  3.079622   \n",
       "2                     Nil By Mouth (1997)                 Drama  3.518707   \n",
       "3                           Casino (1995)           Crime|Drama  3.823707   \n",
       "4                        Alpha Dog (2007)           Crime|Drama  3.271728   \n",
       "5           Straight Outta Compton (2015)                 Drama  3.694366   \n",
       "6                       Starred Up (2013)                 Drama  3.663580   \n",
       "7                     End of Watch (2012)  Crime|Drama|Thriller  3.812533   \n",
       "8                        Twin Town (1997)          Comedy|Crime  3.104015   \n",
       "9  Martin Lawrence Live: Runteldat (2002)    Comedy|Documentary  2.345528   \n",
       "\n",
       "   Count_ratings  \n",
       "0             15  \n",
       "1           2964  \n",
       "2            294  \n",
       "3          18404  \n",
       "4            955  \n",
       "5           1420  \n",
       "6            324  \n",
       "7           1915  \n",
       "8            274  \n",
       "9            123  "
      ]
     },
     "execution_count": 26,
     "metadata": {},
     "output_type": "execute_result"
    }
   ],
   "source": [
    "df_f_movies.head(10)"
   ]
  },
  {
   "cell_type": "code",
   "execution_count": 28,
   "metadata": {},
   "outputs": [],
   "source": [
    "df_f_movies['f_per_minute'] = df_f_movies['Count']/ df_f_movies['Running time\\n(minutes)']"
   ]
  },
  {
   "cell_type": "code",
   "execution_count": 29,
   "metadata": {},
   "outputs": [
    {
     "data": {
      "text/plain": [
       "(132, 12)"
      ]
     },
     "execution_count": 29,
     "metadata": {},
     "output_type": "execute_result"
    }
   ],
   "source": [
    "df_f_movies.shape"
   ]
  },
  {
   "cell_type": "code",
   "execution_count": 38,
   "metadata": {},
   "outputs": [
    {
     "data": {
      "image/png": "[encoded data removed]",
      "text/plain": [
       "<Figure size 432x288 with 1 Axes>"
      ]
     },
     "metadata": {},
     "output_type": "display_data"
    }
   ],
   "source": [
    "plt.scatter(df_f_movies['f_per_minute'], df_f_movies['Mean'], s=100, cmap=plt.cm.cool, edgecolors='None', alpha=0.75)\n",
    "plt.show()"
   ]
  },
  {
   "cell_type": "code",
   "execution_count": 60,
   "metadata": {},
   "outputs": [
    {
     "data": {
      "image/png": "[encoded data removed]",
      "text/plain": [
       "<Figure size 1152x648 with 1 Axes>"
      ]
     },
     "metadata": {},
     "output_type": "display_data"
    }
   ],
   "source": [
    "fig = plt.figure(figsize=(16,9))\n",
    "ax = fig.add_subplot(111)\n",
    "\n",
    "sns.distplot(df_f_movies['Count_ratings'], kde=True, ax = ax, hist=False, bins = 10, color = 'b')# f_movies\n",
    "sns.distplot(df_ratings['Count_ratings'], kde=True, ax = ax, hist=False, bins = 10, color = 'g')# Filmes gerais\n",
    "\n",
    "plt.show()"
   ]
  },
  {
   "cell_type": "markdown",
   "metadata": {},
   "source": [
    "O gráfico acima deixa claro que nos filmes com a palavra f*, a maioria dos filmes teve menos de 20000 avaliações"
   ]
  },
  {
   "cell_type": "code",
   "execution_count": 63,
   "metadata": {},
   "outputs": [
    {
     "data": {
      "text/html": [
       "<div>\n",
       "<style scoped>\n",
       "    .dataframe tbody tr th:only-of-type {\n",
       "        vertical-align: middle;\n",
       "    }\n",
       "\n",
       "    .dataframe tbody tr th {\n",
       "        vertical-align: top;\n",
       "    }\n",
       "\n",
       "    .dataframe thead th {\n",
       "        text-align: right;\n",
       "    }\n",
       "</style>\n",
       "<table border=\"1\" class=\"dataframe\">\n",
       "  <thead>\n",
       "    <tr style=\"text-align: right;\">\n",
       "      <th></th>\n",
       "      <th>Rank</th>\n",
       "      <th>Film</th>\n",
       "      <th>Year</th>\n",
       "      <th>Count</th>\n",
       "      <th>Running time\\n(minutes)</th>\n",
       "      <th>title_processed</th>\n",
       "      <th>movieId</th>\n",
       "      <th>title</th>\n",
       "      <th>genres</th>\n",
       "      <th>Mean</th>\n",
       "      <th>Count_ratings</th>\n",
       "      <th>f_per_minute</th>\n",
       "      <th>decada</th>\n",
       "      <th>Decada</th>\n",
       "    </tr>\n",
       "  </thead>\n",
       "  <tbody>\n",
       "    <tr>\n",
       "      <th>0</th>\n",
       "      <td>1.0</td>\n",
       "      <td>Swearnet: The Movie</td>\n",
       "      <td>2014</td>\n",
       "      <td>935</td>\n",
       "      <td>112</td>\n",
       "      <td>swearnetthemovie</td>\n",
       "      <td>132132</td>\n",
       "      <td>Swearnet: The Movie (2014)</td>\n",
       "      <td>Comedy</td>\n",
       "      <td>3.1</td>\n",
       "      <td>15</td>\n",
       "      <td>8.348214</td>\n",
       "      <td>20.14</td>\n",
       "      <td>10</td>\n",
       "    </tr>\n",
       "  </tbody>\n",
       "</table>\n",
       "</div>"
      ],
      "text/plain": [
       "   Rank                 Film  Year  Count  Running time\\n(minutes)  \\\n",
       "0   1.0  Swearnet: The Movie  2014    935                      112   \n",
       "\n",
       "    title_processed  movieId                       title  genres  Mean  \\\n",
       "0  swearnetthemovie   132132  Swearnet: The Movie (2014)  Comedy   3.1   \n",
       "\n",
       "   Count_ratings  f_per_minute  decada Decada  \n",
       "0             15      8.348214   20.14     10  "
      ]
     },
     "execution_count": 63,
     "metadata": {},
     "output_type": "execute_result"
    }
   ],
   "source": [
    "df_f_movies.head(1)"
   ]
  },
  {
   "cell_type": "code",
   "execution_count": 64,
   "metadata": {},
   "outputs": [],
   "source": [
    "df_f_movies['prop_avaliacoes'] = (df_f_movies['Count_ratings']/(sum(df_f_movies['Count_ratings']))) * 100"
   ]
  },
  {
   "cell_type": "markdown",
   "metadata": {},
   "source": [
    "# Relação entre quantidade de vezes que aparece a palavra f* x quantidade de avaliações"
   ]
  },
  {
   "cell_type": "code",
   "execution_count": 56,
   "metadata": {
    "scrolled": true
   },
   "outputs": [
    {
     "data": {
      "text/html": [
       "<div>\n",
       "<style scoped>\n",
       "    .dataframe tbody tr th:only-of-type {\n",
       "        vertical-align: middle;\n",
       "    }\n",
       "\n",
       "    .dataframe tbody tr th {\n",
       "        vertical-align: top;\n",
       "    }\n",
       "\n",
       "    .dataframe thead th {\n",
       "        text-align: right;\n",
       "    }\n",
       "</style>\n",
       "<table border=\"1\" class=\"dataframe\">\n",
       "  <thead>\n",
       "    <tr style=\"text-align: right;\">\n",
       "      <th></th>\n",
       "      <th>Rank</th>\n",
       "      <th>Film</th>\n",
       "      <th>Year</th>\n",
       "      <th>Count</th>\n",
       "      <th>Running time\\n(minutes)</th>\n",
       "      <th>title_processed</th>\n",
       "      <th>movieId</th>\n",
       "      <th>title</th>\n",
       "      <th>genres</th>\n",
       "      <th>Mean</th>\n",
       "      <th>Count_ratings</th>\n",
       "      <th>f_per_minute</th>\n",
       "      <th>decada</th>\n",
       "      <th>Decada</th>\n",
       "    </tr>\n",
       "  </thead>\n",
       "  <tbody>\n",
       "    <tr>\n",
       "      <th>0</th>\n",
       "      <td>1.0</td>\n",
       "      <td>Swearnet: The Movie</td>\n",
       "      <td>2014</td>\n",
       "      <td>935</td>\n",
       "      <td>112</td>\n",
       "      <td>swearnetthemovie</td>\n",
       "      <td>132132</td>\n",
       "      <td>Swearnet: The Movie (2014)</td>\n",
       "      <td>Comedy</td>\n",
       "      <td>3.100000</td>\n",
       "      <td>15</td>\n",
       "      <td>8.348214</td>\n",
       "      <td>20.14</td>\n",
       "      <td>10</td>\n",
       "    </tr>\n",
       "    <tr>\n",
       "      <th>1</th>\n",
       "      <td>5.0</td>\n",
       "      <td>Summer of Sam</td>\n",
       "      <td>1999</td>\n",
       "      <td>435</td>\n",
       "      <td>142</td>\n",
       "      <td>summerofsam</td>\n",
       "      <td>2702</td>\n",
       "      <td>Summer of Sam (1999)</td>\n",
       "      <td>Drama</td>\n",
       "      <td>3.079622</td>\n",
       "      <td>2964</td>\n",
       "      <td>3.063380</td>\n",
       "      <td>19.99</td>\n",
       "      <td>90</td>\n",
       "    </tr>\n",
       "    <tr>\n",
       "      <th>2</th>\n",
       "      <td>6.0</td>\n",
       "      <td>Nil by Mouth</td>\n",
       "      <td>1997</td>\n",
       "      <td>428</td>\n",
       "      <td>128</td>\n",
       "      <td>nilbymouth</td>\n",
       "      <td>1846</td>\n",
       "      <td>Nil By Mouth (1997)</td>\n",
       "      <td>Drama</td>\n",
       "      <td>3.518707</td>\n",
       "      <td>294</td>\n",
       "      <td>3.343750</td>\n",
       "      <td>19.97</td>\n",
       "      <td>90</td>\n",
       "    </tr>\n",
       "    <tr>\n",
       "      <th>3</th>\n",
       "      <td>7.0</td>\n",
       "      <td>Casino</td>\n",
       "      <td>1995</td>\n",
       "      <td>422</td>\n",
       "      <td>178</td>\n",
       "      <td>casino</td>\n",
       "      <td>16</td>\n",
       "      <td>Casino (1995)</td>\n",
       "      <td>Crime|Drama</td>\n",
       "      <td>3.823707</td>\n",
       "      <td>18404</td>\n",
       "      <td>2.370787</td>\n",
       "      <td>19.95</td>\n",
       "      <td>90</td>\n",
       "    </tr>\n",
       "    <tr>\n",
       "      <th>4</th>\n",
       "      <td>8.0</td>\n",
       "      <td>Alpha Dog</td>\n",
       "      <td>2006</td>\n",
       "      <td>420</td>\n",
       "      <td>118</td>\n",
       "      <td>alphadog</td>\n",
       "      <td>50442</td>\n",
       "      <td>Alpha Dog (2007)</td>\n",
       "      <td>Crime|Drama</td>\n",
       "      <td>3.271728</td>\n",
       "      <td>955</td>\n",
       "      <td>3.559322</td>\n",
       "      <td>20.06</td>\n",
       "      <td>00</td>\n",
       "    </tr>\n",
       "    <tr>\n",
       "      <th>5</th>\n",
       "      <td>9.0</td>\n",
       "      <td>Straight Outta Compton</td>\n",
       "      <td>2015</td>\n",
       "      <td>392</td>\n",
       "      <td>167</td>\n",
       "      <td>straightouttacompton</td>\n",
       "      <td>140715</td>\n",
       "      <td>Straight Outta Compton (2015)</td>\n",
       "      <td>Drama</td>\n",
       "      <td>3.694366</td>\n",
       "      <td>1420</td>\n",
       "      <td>2.347305</td>\n",
       "      <td>20.15</td>\n",
       "      <td>10</td>\n",
       "    </tr>\n",
       "    <tr>\n",
       "      <th>6</th>\n",
       "      <td>11.0</td>\n",
       "      <td>Starred Up</td>\n",
       "      <td>2013</td>\n",
       "      <td>337</td>\n",
       "      <td>106</td>\n",
       "      <td>starredup</td>\n",
       "      <td>110110</td>\n",
       "      <td>Starred Up (2013)</td>\n",
       "      <td>Drama</td>\n",
       "      <td>3.663580</td>\n",
       "      <td>324</td>\n",
       "      <td>3.179245</td>\n",
       "      <td>20.13</td>\n",
       "      <td>10</td>\n",
       "    </tr>\n",
       "    <tr>\n",
       "      <th>7</th>\n",
       "      <td>12.0</td>\n",
       "      <td>End of Watch</td>\n",
       "      <td>2012</td>\n",
       "      <td>326</td>\n",
       "      <td>109</td>\n",
       "      <td>endofwatch</td>\n",
       "      <td>96811</td>\n",
       "      <td>End of Watch (2012)</td>\n",
       "      <td>Crime|Drama|Thriller</td>\n",
       "      <td>3.812533</td>\n",
       "      <td>1915</td>\n",
       "      <td>2.990826</td>\n",
       "      <td>20.12</td>\n",
       "      <td>10</td>\n",
       "    </tr>\n",
       "    <tr>\n",
       "      <th>8</th>\n",
       "      <td>15.0</td>\n",
       "      <td>Twin Town</td>\n",
       "      <td>1997</td>\n",
       "      <td>318</td>\n",
       "      <td>99</td>\n",
       "      <td>twintown</td>\n",
       "      <td>1539</td>\n",
       "      <td>Twin Town (1997)</td>\n",
       "      <td>Comedy|Crime</td>\n",
       "      <td>3.104015</td>\n",
       "      <td>274</td>\n",
       "      <td>3.212121</td>\n",
       "      <td>19.97</td>\n",
       "      <td>90</td>\n",
       "    </tr>\n",
       "    <tr>\n",
       "      <th>9</th>\n",
       "      <td>18.0</td>\n",
       "      <td>Martin Lawrence Live: Runteldat</td>\n",
       "      <td>2002</td>\n",
       "      <td>311</td>\n",
       "      <td>113</td>\n",
       "      <td>martinlawrenceliverunteldat</td>\n",
       "      <td>5513</td>\n",
       "      <td>Martin Lawrence Live: Runteldat (2002)</td>\n",
       "      <td>Comedy|Documentary</td>\n",
       "      <td>2.345528</td>\n",
       "      <td>123</td>\n",
       "      <td>2.752212</td>\n",
       "      <td>20.02</td>\n",
       "      <td>00</td>\n",
       "    </tr>\n",
       "  </tbody>\n",
       "</table>\n",
       "</div>"
      ],
      "text/plain": [
       "   Rank                             Film  Year  Count  \\\n",
       "0   1.0              Swearnet: The Movie  2014    935   \n",
       "1   5.0                    Summer of Sam  1999    435   \n",
       "2   6.0                     Nil by Mouth  1997    428   \n",
       "3   7.0                           Casino  1995    422   \n",
       "4   8.0                        Alpha Dog  2006    420   \n",
       "5   9.0           Straight Outta Compton  2015    392   \n",
       "6  11.0                       Starred Up  2013    337   \n",
       "7  12.0                     End of Watch  2012    326   \n",
       "8  15.0                        Twin Town  1997    318   \n",
       "9  18.0  Martin Lawrence Live: Runteldat  2002    311   \n",
       "\n",
       "   Running time\\n(minutes)              title_processed  movieId  \\\n",
       "0                      112             swearnetthemovie   132132   \n",
       "1                      142                  summerofsam     2702   \n",
       "2                      128                   nilbymouth     1846   \n",
       "3                      178                       casino       16   \n",
       "4                      118                     alphadog    50442   \n",
       "5                      167         straightouttacompton   140715   \n",
       "6                      106                    starredup   110110   \n",
       "7                      109                   endofwatch    96811   \n",
       "8                       99                     twintown     1539   \n",
       "9                      113  martinlawrenceliverunteldat     5513   \n",
       "\n",
       "                                    title                genres      Mean  \\\n",
       "0              Swearnet: The Movie (2014)                Comedy  3.100000   \n",
       "1                    Summer of Sam (1999)                 Drama  3.079622   \n",
       "2                     Nil By Mouth (1997)                 Drama  3.518707   \n",
       "3                           Casino (1995)           Crime|Drama  3.823707   \n",
       "4                        Alpha Dog (2007)           Crime|Drama  3.271728   \n",
       "5           Straight Outta Compton (2015)                 Drama  3.694366   \n",
       "6                       Starred Up (2013)                 Drama  3.663580   \n",
       "7                     End of Watch (2012)  Crime|Drama|Thriller  3.812533   \n",
       "8                        Twin Town (1997)          Comedy|Crime  3.104015   \n",
       "9  Martin Lawrence Live: Runteldat (2002)    Comedy|Documentary  2.345528   \n",
       "\n",
       "   Count_ratings  f_per_minute  decada Decada  \n",
       "0             15      8.348214   20.14     10  \n",
       "1           2964      3.063380   19.99     90  \n",
       "2            294      3.343750   19.97     90  \n",
       "3          18404      2.370787   19.95     90  \n",
       "4            955      3.559322   20.06     00  \n",
       "5           1420      2.347305   20.15     10  \n",
       "6            324      3.179245   20.13     10  \n",
       "7           1915      2.990826   20.12     10  \n",
       "8            274      3.212121   19.97     90  \n",
       "9            123      2.752212   20.02     00  "
      ]
     },
     "execution_count": 56,
     "metadata": {},
     "output_type": "execute_result"
    }
   ],
   "source": [
    "df_f_movies.head(10)"
   ]
  },
  {
   "cell_type": "code",
   "execution_count": 57,
   "metadata": {},
   "outputs": [
    {
     "data": {
      "text/plain": [
       "(132, 14)"
      ]
     },
     "execution_count": 57,
     "metadata": {},
     "output_type": "execute_result"
    }
   ],
   "source": [
    "df_f_movies.shape"
   ]
  },
  {
   "cell_type": "code",
   "execution_count": 58,
   "metadata": {},
   "outputs": [
    {
     "data": {
      "image/png": "[encoded data removed]",
      "text/plain": [
       "<Figure size 432x288 with 1 Axes>"
      ]
     },
     "metadata": {},
     "output_type": "display_data"
    }
   ],
   "source": [
    "plt.scatter(df_f_movies['f_per_minute'], df_f_movies['Count_ratings'], s=100, cmap=plt.cm.cool, edgecolors='None', alpha=0.75)\n",
    "plt.show()"
   ]
  },
  {
   "cell_type": "markdown",
   "metadata": {},
   "source": [
    "# Número de filmes x Ano"
   ]
  },
  {
   "cell_type": "code",
   "execution_count": 45,
   "metadata": {},
   "outputs": [
    {
     "data": {
      "text/plain": [
       "count     132.000000\n",
       "mean     2004.795455\n",
       "std         9.182408\n",
       "min      1978.000000\n",
       "25%      1998.000000\n",
       "50%      2004.500000\n",
       "75%      2012.250000\n",
       "max      2022.000000\n",
       "Name: Year, dtype: float64"
      ]
     },
     "execution_count": 45,
     "metadata": {},
     "output_type": "execute_result"
    }
   ],
   "source": [
    "df_f_movies['Year'].describe()"
   ]
  },
  {
   "cell_type": "code",
   "execution_count": 52,
   "metadata": {},
   "outputs": [],
   "source": [
    "df_f_movies['Decada'] = np.where((df_f_movies['Year'] > 1970) & (df_f_movies['Year'] < 1980), '70',\n",
    "                                np.where((df_f_movies['Year'] >= 1980) & (df_f_movies['Year'] < 1990), '80',\n",
    "                                np.where((df_f_movies['Year'] >= 1990) & (df_f_movies['Year'] < 2000), '90',\n",
    "                                np.where((df_f_movies['Year'] >= 2000) & (df_f_movies['Year'] < 2010), '00',\n",
    "                                np.where((df_f_movies['Year'] >= 2010) & (df_f_movies['Year'] < 2020), '10',\n",
    "                                np.where((df_f_movies['Year'] >= 2020), '20', 'null'))))))"
   ]
  },
  {
   "cell_type": "code",
   "execution_count": 53,
   "metadata": {},
   "outputs": [
    {
     "data": {
      "text/plain": [
       "00    45\n",
       "10    42\n",
       "90    35\n",
       "80     6\n",
       "20     3\n",
       "70     1\n",
       "Name: Decada, dtype: int64"
      ]
     },
     "execution_count": 53,
     "metadata": {},
     "output_type": "execute_result"
    }
   ],
   "source": [
    "df_f_movies['Decada'].value_counts()"
   ]
  },
  {
   "cell_type": "code",
   "execution_count": 55,
   "metadata": {},
   "outputs": [
    {
     "data": {
      "text/plain": [
       "<matplotlib.axes._subplots.AxesSubplot at 0x7f03ffbf7ad0>"
      ]
     },
     "execution_count": 55,
     "metadata": {},
     "output_type": "execute_result"
    },
    {
     "data": {
      "image/png": "[encoded data removed]",
      "text/plain": [
       "<Figure size 432x288 with 1 Axes>"
      ]
     },
     "metadata": {},
     "output_type": "display_data"
    }
   ],
   "source": [
    "sns.countplot(x= df_f_movies['Decada'], order = ['70', '80', '90', '00', '10', '20'])"
   ]
  },
  {
   "cell_type": "raw",
   "metadata": {},
   "source": [
    "Como podemos observar no gráfico acima, a década que mais tem filmes entre os avaliados e que tenham a palavra f*, é a decada de 2000."
   ]
  },
  {
   "cell_type": "code",
   "execution_count": 65,
   "metadata": {},
   "outputs": [
    {
     "data": {
      "text/html": [
       "<div>\n",
       "<style scoped>\n",
       "    .dataframe tbody tr th:only-of-type {\n",
       "        vertical-align: middle;\n",
       "    }\n",
       "\n",
       "    .dataframe tbody tr th {\n",
       "        vertical-align: top;\n",
       "    }\n",
       "\n",
       "    .dataframe thead th {\n",
       "        text-align: right;\n",
       "    }\n",
       "</style>\n",
       "<table border=\"1\" class=\"dataframe\">\n",
       "  <thead>\n",
       "    <tr style=\"text-align: right;\">\n",
       "      <th></th>\n",
       "      <th>Rank</th>\n",
       "      <th>Film</th>\n",
       "      <th>Year</th>\n",
       "      <th>Count</th>\n",
       "      <th>Running time\\n(minutes)</th>\n",
       "      <th>title_processed</th>\n",
       "      <th>movieId</th>\n",
       "      <th>title</th>\n",
       "      <th>genres</th>\n",
       "      <th>Mean</th>\n",
       "      <th>Count_ratings</th>\n",
       "      <th>f_per_minute</th>\n",
       "      <th>decada</th>\n",
       "      <th>Decada</th>\n",
       "      <th>prop_avaliacoes</th>\n",
       "    </tr>\n",
       "  </thead>\n",
       "  <tbody>\n",
       "    <tr>\n",
       "      <th>22</th>\n",
       "      <td>38.0</td>\n",
       "      <td>Pulp Fiction</td>\n",
       "      <td>1994</td>\n",
       "      <td>265</td>\n",
       "      <td>154</td>\n",
       "      <td>pulpfiction</td>\n",
       "      <td>296</td>\n",
       "      <td>Pulp Fiction (1994)</td>\n",
       "      <td>Comedy|Crime|Drama|Thriller</td>\n",
       "      <td>4.188912</td>\n",
       "      <td>79672</td>\n",
       "      <td>1.720779</td>\n",
       "      <td>19.94</td>\n",
       "      <td>90</td>\n",
       "      <td>14.365747</td>\n",
       "    </tr>\n",
       "    <tr>\n",
       "      <th>92</th>\n",
       "      <td>148.0</td>\n",
       "      <td>Good Will Hunting</td>\n",
       "      <td>1997</td>\n",
       "      <td>154</td>\n",
       "      <td>126</td>\n",
       "      <td>goodwillhunting</td>\n",
       "      <td>1704</td>\n",
       "      <td>Good Will Hunting (1997)</td>\n",
       "      <td>Drama|Romance</td>\n",
       "      <td>4.074935</td>\n",
       "      <td>38947</td>\n",
       "      <td>1.222222</td>\n",
       "      <td>19.97</td>\n",
       "      <td>90</td>\n",
       "      <td>7.022577</td>\n",
       "    </tr>\n",
       "    <tr>\n",
       "      <th>21</th>\n",
       "      <td>37.0</td>\n",
       "      <td>Reservoir Dogs</td>\n",
       "      <td>1992</td>\n",
       "      <td>269</td>\n",
       "      <td>99</td>\n",
       "      <td>reservoirdogs</td>\n",
       "      <td>1089</td>\n",
       "      <td>Reservoir Dogs (1992)</td>\n",
       "      <td>Crime|Mystery|Thriller</td>\n",
       "      <td>4.092294</td>\n",
       "      <td>34634</td>\n",
       "      <td>2.717172</td>\n",
       "      <td>19.92</td>\n",
       "      <td>90</td>\n",
       "      <td>6.244895</td>\n",
       "    </tr>\n",
       "    <tr>\n",
       "      <th>11</th>\n",
       "      <td>20.0</td>\n",
       "      <td>Goodfellas</td>\n",
       "      <td>1990</td>\n",
       "      <td>300</td>\n",
       "      <td>146</td>\n",
       "      <td>goodfellas</td>\n",
       "      <td>1213</td>\n",
       "      <td>Goodfellas (1990)</td>\n",
       "      <td>Crime|Drama</td>\n",
       "      <td>4.180525</td>\n",
       "      <td>32663</td>\n",
       "      <td>2.054795</td>\n",
       "      <td>19.90</td>\n",
       "      <td>90</td>\n",
       "      <td>5.889502</td>\n",
       "    </tr>\n",
       "    <tr>\n",
       "      <th>40</th>\n",
       "      <td>62.0</td>\n",
       "      <td>American History X</td>\n",
       "      <td>1998</td>\n",
       "      <td>214</td>\n",
       "      <td>119</td>\n",
       "      <td>americanhistoryx</td>\n",
       "      <td>2329</td>\n",
       "      <td>American History X (1998)</td>\n",
       "      <td>Crime|Drama</td>\n",
       "      <td>4.140001</td>\n",
       "      <td>31157</td>\n",
       "      <td>1.798319</td>\n",
       "      <td>19.98</td>\n",
       "      <td>90</td>\n",
       "      <td>5.617953</td>\n",
       "    </tr>\n",
       "    <tr>\n",
       "      <th>59</th>\n",
       "      <td>99.0</td>\n",
       "      <td>Trainspotting</td>\n",
       "      <td>1996</td>\n",
       "      <td>175</td>\n",
       "      <td>95</td>\n",
       "      <td>trainspotting</td>\n",
       "      <td>778</td>\n",
       "      <td>Trainspotting (1996)</td>\n",
       "      <td>Comedy|Crime|Drama</td>\n",
       "      <td>4.007665</td>\n",
       "      <td>28702</td>\n",
       "      <td>1.842105</td>\n",
       "      <td>19.96</td>\n",
       "      <td>90</td>\n",
       "      <td>5.175289</td>\n",
       "    </tr>\n",
       "    <tr>\n",
       "      <th>83</th>\n",
       "      <td>134.0</td>\n",
       "      <td>Snatch</td>\n",
       "      <td>2000</td>\n",
       "      <td>159</td>\n",
       "      <td>102</td>\n",
       "      <td>snatch</td>\n",
       "      <td>4011</td>\n",
       "      <td>Snatch (2000)</td>\n",
       "      <td>Comedy|Crime|Thriller</td>\n",
       "      <td>4.063324</td>\n",
       "      <td>25101</td>\n",
       "      <td>1.558824</td>\n",
       "      <td>20.00</td>\n",
       "      <td>00</td>\n",
       "      <td>4.525989</td>\n",
       "    </tr>\n",
       "    <tr>\n",
       "      <th>3</th>\n",
       "      <td>7.0</td>\n",
       "      <td>Casino</td>\n",
       "      <td>1995</td>\n",
       "      <td>422</td>\n",
       "      <td>178</td>\n",
       "      <td>casino</td>\n",
       "      <td>16</td>\n",
       "      <td>Casino (1995)</td>\n",
       "      <td>Crime|Drama</td>\n",
       "      <td>3.823707</td>\n",
       "      <td>18404</td>\n",
       "      <td>2.370787</td>\n",
       "      <td>19.95</td>\n",
       "      <td>90</td>\n",
       "      <td>3.318446</td>\n",
       "    </tr>\n",
       "    <tr>\n",
       "      <th>71</th>\n",
       "      <td>117.0</td>\n",
       "      <td>District 9</td>\n",
       "      <td>2009</td>\n",
       "      <td>165</td>\n",
       "      <td>112</td>\n",
       "      <td>district</td>\n",
       "      <td>70286</td>\n",
       "      <td>District 9 (2009)</td>\n",
       "      <td>Mystery|Sci-Fi|Thriller</td>\n",
       "      <td>3.806483</td>\n",
       "      <td>17970</td>\n",
       "      <td>1.473214</td>\n",
       "      <td>20.09</td>\n",
       "      <td>00</td>\n",
       "      <td>3.240191</td>\n",
       "    </tr>\n",
       "    <tr>\n",
       "      <th>82</th>\n",
       "      <td>133.0</td>\n",
       "      <td>Platoon</td>\n",
       "      <td>1986</td>\n",
       "      <td>159</td>\n",
       "      <td>120</td>\n",
       "      <td>platoon</td>\n",
       "      <td>1090</td>\n",
       "      <td>Platoon (1986)</td>\n",
       "      <td>Drama|War</td>\n",
       "      <td>3.903608</td>\n",
       "      <td>16796</td>\n",
       "      <td>1.325000</td>\n",
       "      <td>19.86</td>\n",
       "      <td>80</td>\n",
       "      <td>3.028505</td>\n",
       "    </tr>\n",
       "  </tbody>\n",
       "</table>\n",
       "</div>"
      ],
      "text/plain": [
       "     Rank                Film  Year  Count  Running time\\n(minutes)  \\\n",
       "22   38.0        Pulp Fiction  1994    265                      154   \n",
       "92  148.0   Good Will Hunting  1997    154                      126   \n",
       "21   37.0      Reservoir Dogs  1992    269                       99   \n",
       "11   20.0          Goodfellas  1990    300                      146   \n",
       "40   62.0  American History X  1998    214                      119   \n",
       "59   99.0       Trainspotting  1996    175                       95   \n",
       "83  134.0              Snatch  2000    159                      102   \n",
       "3     7.0              Casino  1995    422                      178   \n",
       "71  117.0          District 9  2009    165                      112   \n",
       "82  133.0             Platoon  1986    159                      120   \n",
       "\n",
       "     title_processed  movieId                      title  \\\n",
       "22       pulpfiction      296        Pulp Fiction (1994)   \n",
       "92   goodwillhunting     1704   Good Will Hunting (1997)   \n",
       "21     reservoirdogs     1089      Reservoir Dogs (1992)   \n",
       "11        goodfellas     1213          Goodfellas (1990)   \n",
       "40  americanhistoryx     2329  American History X (1998)   \n",
       "59     trainspotting      778       Trainspotting (1996)   \n",
       "83            snatch     4011              Snatch (2000)   \n",
       "3             casino       16              Casino (1995)   \n",
       "71          district    70286          District 9 (2009)   \n",
       "82           platoon     1090             Platoon (1986)   \n",
       "\n",
       "                         genres      Mean  Count_ratings  f_per_minute  \\\n",
       "22  Comedy|Crime|Drama|Thriller  4.188912          79672      1.720779   \n",
       "92                Drama|Romance  4.074935          38947      1.222222   \n",
       "21       Crime|Mystery|Thriller  4.092294          34634      2.717172   \n",
       "11                  Crime|Drama  4.180525          32663      2.054795   \n",
       "40                  Crime|Drama  4.140001          31157      1.798319   \n",
       "59           Comedy|Crime|Drama  4.007665          28702      1.842105   \n",
       "83        Comedy|Crime|Thriller  4.063324          25101      1.558824   \n",
       "3                   Crime|Drama  3.823707          18404      2.370787   \n",
       "71      Mystery|Sci-Fi|Thriller  3.806483          17970      1.473214   \n",
       "82                    Drama|War  3.903608          16796      1.325000   \n",
       "\n",
       "    decada Decada  prop_avaliacoes  \n",
       "22   19.94     90        14.365747  \n",
       "92   19.97     90         7.022577  \n",
       "21   19.92     90         6.244895  \n",
       "11   19.90     90         5.889502  \n",
       "40   19.98     90         5.617953  \n",
       "59   19.96     90         5.175289  \n",
       "83   20.00     00         4.525989  \n",
       "3    19.95     90         3.318446  \n",
       "71   20.09     00         3.240191  \n",
       "82   19.86     80         3.028505  "
      ]
     },
     "execution_count": 65,
     "metadata": {},
     "output_type": "execute_result"
    }
   ],
   "source": [
    "df_f_movies.sort_values(by = 'prop_avaliacoes', ascending = False).head(10)"
   ]
  },
  {
   "cell_type": "code",
   "execution_count": 67,
   "metadata": {
    "scrolled": true
   },
   "outputs": [
    {
     "data": {
      "text/html": [
       "<div>\n",
       "<style scoped>\n",
       "    .dataframe tbody tr th:only-of-type {\n",
       "        vertical-align: middle;\n",
       "    }\n",
       "\n",
       "    .dataframe tbody tr th {\n",
       "        vertical-align: top;\n",
       "    }\n",
       "\n",
       "    .dataframe thead th {\n",
       "        text-align: right;\n",
       "    }\n",
       "</style>\n",
       "<table border=\"1\" class=\"dataframe\">\n",
       "  <thead>\n",
       "    <tr style=\"text-align: right;\">\n",
       "      <th></th>\n",
       "      <th>Decada</th>\n",
       "      <th>prop_avaliacoes</th>\n",
       "    </tr>\n",
       "  </thead>\n",
       "  <tbody>\n",
       "    <tr>\n",
       "      <th>0</th>\n",
       "      <td>00</td>\n",
       "      <td>23.334061</td>\n",
       "    </tr>\n",
       "    <tr>\n",
       "      <th>1</th>\n",
       "      <td>10</td>\n",
       "      <td>5.306376</td>\n",
       "    </tr>\n",
       "    <tr>\n",
       "      <th>2</th>\n",
       "      <td>20</td>\n",
       "      <td>0.040029</td>\n",
       "    </tr>\n",
       "    <tr>\n",
       "      <th>3</th>\n",
       "      <td>70</td>\n",
       "      <td>0.057159</td>\n",
       "    </tr>\n",
       "    <tr>\n",
       "      <th>4</th>\n",
       "      <td>80</td>\n",
       "      <td>8.085150</td>\n",
       "    </tr>\n",
       "    <tr>\n",
       "      <th>5</th>\n",
       "      <td>90</td>\n",
       "      <td>63.177226</td>\n",
       "    </tr>\n",
       "  </tbody>\n",
       "</table>\n",
       "</div>"
      ],
      "text/plain": [
       "  Decada  prop_avaliacoes\n",
       "0     00        23.334061\n",
       "1     10         5.306376\n",
       "2     20         0.040029\n",
       "3     70         0.057159\n",
       "4     80         8.085150\n",
       "5     90        63.177226"
      ]
     },
     "execution_count": 67,
     "metadata": {},
     "output_type": "execute_result"
    }
   ],
   "source": [
    "df_prop = df_f_movies[['Decada', 'prop_avaliacoes']].groupby(by = 'Decada').sum()\n",
    "df_prop.reset_index(inplace= True)\n",
    "df_prop"
   ]
  },
  {
   "cell_type": "code",
   "execution_count": 68,
   "metadata": {},
   "outputs": [
    {
     "data": {
      "image/png": "[encoded data removed]",
      "text/plain": [
       "<Figure size 432x288 with 1 Axes>"
      ]
     },
     "metadata": {},
     "output_type": "display_data"
    }
   ],
   "source": [
    "fig1, ax1 = plt.subplots()\n",
    "ax1.pie(df_prop['prop_avaliacoes'], labels= df_prop['Decada'], autopct='%1.1f%%',\n",
    "        shadow=True, startangle=90)\n",
    "ax1.axis('equal')  # Equal aspect ratio ensures that pie is drawn as a circle.\n",
    "\n",
    "plt.show()"
   ]
  },
  {
   "cell_type": "code",
   "execution_count": 69,
   "metadata": {},
   "outputs": [
    {
     "data": {
      "text/html": [
       "<div>\n",
       "<style scoped>\n",
       "    .dataframe tbody tr th:only-of-type {\n",
       "        vertical-align: middle;\n",
       "    }\n",
       "\n",
       "    .dataframe tbody tr th {\n",
       "        vertical-align: top;\n",
       "    }\n",
       "\n",
       "    .dataframe thead th {\n",
       "        text-align: right;\n",
       "    }\n",
       "</style>\n",
       "<table border=\"1\" class=\"dataframe\">\n",
       "  <thead>\n",
       "    <tr style=\"text-align: right;\">\n",
       "      <th></th>\n",
       "      <th>Decada</th>\n",
       "      <th>movieId</th>\n",
       "    </tr>\n",
       "  </thead>\n",
       "  <tbody>\n",
       "    <tr>\n",
       "      <th>0</th>\n",
       "      <td>00</td>\n",
       "      <td>45</td>\n",
       "    </tr>\n",
       "    <tr>\n",
       "      <th>1</th>\n",
       "      <td>10</td>\n",
       "      <td>42</td>\n",
       "    </tr>\n",
       "    <tr>\n",
       "      <th>2</th>\n",
       "      <td>20</td>\n",
       "      <td>3</td>\n",
       "    </tr>\n",
       "    <tr>\n",
       "      <th>3</th>\n",
       "      <td>70</td>\n",
       "      <td>1</td>\n",
       "    </tr>\n",
       "    <tr>\n",
       "      <th>4</th>\n",
       "      <td>80</td>\n",
       "      <td>6</td>\n",
       "    </tr>\n",
       "    <tr>\n",
       "      <th>5</th>\n",
       "      <td>90</td>\n",
       "      <td>35</td>\n",
       "    </tr>\n",
       "  </tbody>\n",
       "</table>\n",
       "</div>"
      ],
      "text/plain": [
       "  Decada  movieId\n",
       "0     00       45\n",
       "1     10       42\n",
       "2     20        3\n",
       "3     70        1\n",
       "4     80        6\n",
       "5     90       35"
      ]
     },
     "execution_count": 69,
     "metadata": {},
     "output_type": "execute_result"
    }
   ],
   "source": [
    "df_prop_decada = df_f_movies[['Decada', 'movieId']].groupby(by = 'Decada').count()\n",
    "df_prop_decada.reset_index(inplace= True)\n",
    "df_prop_decada"
   ]
  },
  {
   "cell_type": "code",
   "execution_count": 70,
   "metadata": {},
   "outputs": [
    {
     "data": {
      "image/png": "[encoded data removed]",
      "text/plain": [
       "<Figure size 432x288 with 1 Axes>"
      ]
     },
     "metadata": {},
     "output_type": "display_data"
    }
   ],
   "source": [
    "fig1, ax1 = plt.subplots()\n",
    "ax1.pie(df_prop_decada['movieId'], labels= df_prop_decada['Decada'], autopct='%1.1f%%',\n",
    "        shadow=True, startangle=90)\n",
    "ax1.axis('equal')  # Equal aspect ratio ensures that pie is drawn as a circle.\n",
    "\n",
    "plt.show()"
   ]
  },
  {
   "cell_type": "raw",
   "metadata": {},
   "source": [
    "Pela análise dos dois gráficos, vemos que embora tenha menos que 1 terço dos filmes com a palavra f*, a década de 90 corresponce a quese 2 terços das avaliações. Ou seja, é possível inferir que os filmes da década de 90 tiveram maior popularidade."
   ]
  },
  {
   "cell_type": "raw",
   "metadata": {},
   "source": [
    "Por outro lado, a década de 10 teve quase 1 terço dos filmes mas apenas 5% das avaliações, ou seja, os filmes não tiveram tanto alcance."
   ]
  },
  {
   "cell_type": "code",
   "execution_count": null,
   "metadata": {},
   "outputs": [],
   "source": []
  }
 ],
 "metadata": {
  "kernelspec": {
   "display_name": "Python 3 (ipykernel)",
   "language": "python",
   "name": "python3"
  },
  "language_info": {
   "codemirror_mode": {
    "name": "ipython",
    "version": 3
   },
   "file_extension": ".py",
   "mimetype": "text/x-python",
   "name": "python",
   "nbconvert_exporter": "python",
   "pygments_lexer": "ipython3",
   "version": "3.7.6"
  }
 },
 "nbformat": 4,
 "nbformat_minor": 4
}
