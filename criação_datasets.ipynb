{
 "cells": [
  {
   "cell_type": "markdown",
   "metadata": {},
   "source": [
    "# Setup"
   ]
  },
  {
   "cell_type": "code",
   "execution_count": 16,
   "metadata": {},
   "outputs": [],
   "source": [
    "import pandas as pd\n",
    "import re"
   ]
  },
  {
   "cell_type": "markdown",
   "metadata": {},
   "source": [
    "# Import de dados"
   ]
  },
  {
   "cell_type": "code",
   "execution_count": 2,
   "metadata": {},
   "outputs": [
    {
     "name": "stdout",
     "output_type": "stream",
     "text": [
      "ml-25m\tml-25m.zip  Untitled.ipynb\r\n"
     ]
    }
   ],
   "source": [
    "!ls"
   ]
  },
  {
   "cell_type": "code",
   "execution_count": 3,
   "metadata": {},
   "outputs": [
    {
     "name": "stdout",
     "output_type": "stream",
     "text": [
      "genome-scores.csv  links.csv   ratings.csv  tags.csv\r\n",
      "genome-tags.csv    movies.csv  README.txt\r\n"
     ]
    }
   ],
   "source": [
    "!ls ml-25m"
   ]
  },
  {
   "cell_type": "code",
   "execution_count": 124,
   "metadata": {},
   "outputs": [],
   "source": [
    "df_movies = pd.read_csv('./ml-25m/movies.csv')"
   ]
  },
  {
   "cell_type": "code",
   "execution_count": 125,
   "metadata": {},
   "outputs": [
    {
     "data": {
      "text/html": [
       "<div>\n",
       "<style scoped>\n",
       "    .dataframe tbody tr th:only-of-type {\n",
       "        vertical-align: middle;\n",
       "    }\n",
       "\n",
       "    .dataframe tbody tr th {\n",
       "        vertical-align: top;\n",
       "    }\n",
       "\n",
       "    .dataframe thead th {\n",
       "        text-align: right;\n",
       "    }\n",
       "</style>\n",
       "<table border=\"1\" class=\"dataframe\">\n",
       "  <thead>\n",
       "    <tr style=\"text-align: right;\">\n",
       "      <th></th>\n",
       "      <th>movieId</th>\n",
       "      <th>title</th>\n",
       "      <th>genres</th>\n",
       "    </tr>\n",
       "  </thead>\n",
       "  <tbody>\n",
       "    <tr>\n",
       "      <th>0</th>\n",
       "      <td>1</td>\n",
       "      <td>Toy Story (1995)</td>\n",
       "      <td>Adventure|Animation|Children|Comedy|Fantasy</td>\n",
       "    </tr>\n",
       "  </tbody>\n",
       "</table>\n",
       "</div>"
      ],
      "text/plain": [
       "   movieId             title                                       genres\n",
       "0        1  Toy Story (1995)  Adventure|Animation|Children|Comedy|Fantasy"
      ]
     },
     "execution_count": 125,
     "metadata": {},
     "output_type": "execute_result"
    }
   ],
   "source": [
    "df_movies.head(1)"
   ]
  },
  {
   "cell_type": "code",
   "execution_count": 126,
   "metadata": {},
   "outputs": [
    {
     "name": "stdout",
     "output_type": "stream",
     "text": [
      "f_movies.csv  ml-25m  ml-25m.zip  Untitled.ipynb\r\n"
     ]
    }
   ],
   "source": [
    "!ls"
   ]
  },
  {
   "cell_type": "code",
   "execution_count": 127,
   "metadata": {},
   "outputs": [],
   "source": [
    "df_fmovies = pd.read_csv('f_movies.csv')"
   ]
  },
  {
   "cell_type": "code",
   "execution_count": 128,
   "metadata": {},
   "outputs": [
    {
     "data": {
      "text/html": [
       "<div>\n",
       "<style scoped>\n",
       "    .dataframe tbody tr th:only-of-type {\n",
       "        vertical-align: middle;\n",
       "    }\n",
       "\n",
       "    .dataframe tbody tr th {\n",
       "        vertical-align: top;\n",
       "    }\n",
       "\n",
       "    .dataframe thead th {\n",
       "        text-align: right;\n",
       "    }\n",
       "</style>\n",
       "<table border=\"1\" class=\"dataframe\">\n",
       "  <thead>\n",
       "    <tr style=\"text-align: right;\">\n",
       "      <th></th>\n",
       "      <th>Rank</th>\n",
       "      <th>Film</th>\n",
       "      <th>Year</th>\n",
       "      <th>Count</th>\n",
       "      <th>Running time\\n(minutes)</th>\n",
       "    </tr>\n",
       "  </thead>\n",
       "  <tbody>\n",
       "    <tr>\n",
       "      <th>0</th>\n",
       "      <td>1.0</td>\n",
       "      <td>Swearnet: The Movie</td>\n",
       "      <td>2014</td>\n",
       "      <td>935</td>\n",
       "      <td>112</td>\n",
       "    </tr>\n",
       "  </tbody>\n",
       "</table>\n",
       "</div>"
      ],
      "text/plain": [
       "   Rank                 Film  Year  Count  Running time\\n(minutes)\n",
       "0   1.0  Swearnet: The Movie  2014    935                      112"
      ]
     },
     "execution_count": 128,
     "metadata": {},
     "output_type": "execute_result"
    }
   ],
   "source": [
    "df_fmovies.head(1)"
   ]
  },
  {
   "cell_type": "markdown",
   "metadata": {},
   "source": [
    "# Join das tabelas"
   ]
  },
  {
   "cell_type": "markdown",
   "metadata": {},
   "source": [
    "## Movies"
   ]
  },
  {
   "cell_type": "code",
   "execution_count": 129,
   "metadata": {},
   "outputs": [
    {
     "data": {
      "text/html": [
       "<div>\n",
       "<style scoped>\n",
       "    .dataframe tbody tr th:only-of-type {\n",
       "        vertical-align: middle;\n",
       "    }\n",
       "\n",
       "    .dataframe tbody tr th {\n",
       "        vertical-align: top;\n",
       "    }\n",
       "\n",
       "    .dataframe thead th {\n",
       "        text-align: right;\n",
       "    }\n",
       "</style>\n",
       "<table border=\"1\" class=\"dataframe\">\n",
       "  <thead>\n",
       "    <tr style=\"text-align: right;\">\n",
       "      <th></th>\n",
       "      <th>movieId</th>\n",
       "      <th>title</th>\n",
       "      <th>genres</th>\n",
       "    </tr>\n",
       "  </thead>\n",
       "  <tbody>\n",
       "    <tr>\n",
       "      <th>0</th>\n",
       "      <td>1</td>\n",
       "      <td>Toy Story (1995)</td>\n",
       "      <td>Adventure|Animation|Children|Comedy|Fantasy</td>\n",
       "    </tr>\n",
       "  </tbody>\n",
       "</table>\n",
       "</div>"
      ],
      "text/plain": [
       "   movieId             title                                       genres\n",
       "0        1  Toy Story (1995)  Adventure|Animation|Children|Comedy|Fantasy"
      ]
     },
     "execution_count": 129,
     "metadata": {},
     "output_type": "execute_result"
    }
   ],
   "source": [
    "df_movies.head(1)"
   ]
  },
  {
   "cell_type": "code",
   "execution_count": 130,
   "metadata": {},
   "outputs": [],
   "source": [
    "df_movies['title_processed'] = df_movies['title'].apply(lambda x: x.lower())\n",
    "df_movies['title_processed'] = df_movies['title_processed'].apply(lambda x: x.replace(\" \",\"\"))\n",
    "df_movies['title_processed'] = df_movies['title_processed'].apply(lambda x: re.sub('[^a-zA-Z]+', '',x))"
   ]
  },
  {
   "cell_type": "code",
   "execution_count": 131,
   "metadata": {},
   "outputs": [
    {
     "data": {
      "text/html": [
       "<div>\n",
       "<style scoped>\n",
       "    .dataframe tbody tr th:only-of-type {\n",
       "        vertical-align: middle;\n",
       "    }\n",
       "\n",
       "    .dataframe tbody tr th {\n",
       "        vertical-align: top;\n",
       "    }\n",
       "\n",
       "    .dataframe thead th {\n",
       "        text-align: right;\n",
       "    }\n",
       "</style>\n",
       "<table border=\"1\" class=\"dataframe\">\n",
       "  <thead>\n",
       "    <tr style=\"text-align: right;\">\n",
       "      <th></th>\n",
       "      <th>movieId</th>\n",
       "      <th>title</th>\n",
       "      <th>genres</th>\n",
       "      <th>title_processed</th>\n",
       "    </tr>\n",
       "  </thead>\n",
       "  <tbody>\n",
       "    <tr>\n",
       "      <th>0</th>\n",
       "      <td>1</td>\n",
       "      <td>Toy Story (1995)</td>\n",
       "      <td>Adventure|Animation|Children|Comedy|Fantasy</td>\n",
       "      <td>toystory</td>\n",
       "    </tr>\n",
       "  </tbody>\n",
       "</table>\n",
       "</div>"
      ],
      "text/plain": [
       "   movieId             title                                       genres  \\\n",
       "0        1  Toy Story (1995)  Adventure|Animation|Children|Comedy|Fantasy   \n",
       "\n",
       "  title_processed  \n",
       "0        toystory  "
      ]
     },
     "execution_count": 131,
     "metadata": {},
     "output_type": "execute_result"
    }
   ],
   "source": [
    "df_movies.head(1)"
   ]
  },
  {
   "cell_type": "markdown",
   "metadata": {},
   "source": [
    "## f_movies"
   ]
  },
  {
   "cell_type": "code",
   "execution_count": 132,
   "metadata": {},
   "outputs": [
    {
     "data": {
      "text/html": [
       "<div>\n",
       "<style scoped>\n",
       "    .dataframe tbody tr th:only-of-type {\n",
       "        vertical-align: middle;\n",
       "    }\n",
       "\n",
       "    .dataframe tbody tr th {\n",
       "        vertical-align: top;\n",
       "    }\n",
       "\n",
       "    .dataframe thead th {\n",
       "        text-align: right;\n",
       "    }\n",
       "</style>\n",
       "<table border=\"1\" class=\"dataframe\">\n",
       "  <thead>\n",
       "    <tr style=\"text-align: right;\">\n",
       "      <th></th>\n",
       "      <th>Rank</th>\n",
       "      <th>Film</th>\n",
       "      <th>Year</th>\n",
       "      <th>Count</th>\n",
       "      <th>Running time\\n(minutes)</th>\n",
       "    </tr>\n",
       "  </thead>\n",
       "  <tbody>\n",
       "    <tr>\n",
       "      <th>0</th>\n",
       "      <td>1.0</td>\n",
       "      <td>Swearnet: The Movie</td>\n",
       "      <td>2014</td>\n",
       "      <td>935</td>\n",
       "      <td>112</td>\n",
       "    </tr>\n",
       "  </tbody>\n",
       "</table>\n",
       "</div>"
      ],
      "text/plain": [
       "   Rank                 Film  Year  Count  Running time\\n(minutes)\n",
       "0   1.0  Swearnet: The Movie  2014    935                      112"
      ]
     },
     "execution_count": 132,
     "metadata": {},
     "output_type": "execute_result"
    }
   ],
   "source": [
    "df_fmovies.head(1)"
   ]
  },
  {
   "cell_type": "code",
   "execution_count": 133,
   "metadata": {},
   "outputs": [],
   "source": [
    "df_fmovies['title_processed'] = df_fmovies['Film'].apply(lambda x: x.lower())\n",
    "df_fmovies['title_processed'] = df_fmovies['title_processed'].apply(lambda x: x.replace(\" \",\"\"))\n",
    "df_fmovies['title_processed'] = df_fmovies['title_processed'].apply(lambda x: re.sub('[^a-zA-Z]+', '',x))"
   ]
  },
  {
   "cell_type": "code",
   "execution_count": 135,
   "metadata": {},
   "outputs": [
    {
     "data": {
      "text/plain": [
       "(165, 6)"
      ]
     },
     "execution_count": 135,
     "metadata": {},
     "output_type": "execute_result"
    }
   ],
   "source": [
    "df_fmovies.shape"
   ]
  },
  {
   "cell_type": "markdown",
   "metadata": {},
   "source": [
    "## Join"
   ]
  },
  {
   "cell_type": "code",
   "execution_count": 139,
   "metadata": {},
   "outputs": [],
   "source": [
    "df_final = df_fmovies.merge(df_movies, on = 'title_processed', how = 'inner')"
   ]
  },
  {
   "cell_type": "code",
   "execution_count": 140,
   "metadata": {},
   "outputs": [
    {
     "data": {
      "text/html": [
       "<div>\n",
       "<style scoped>\n",
       "    .dataframe tbody tr th:only-of-type {\n",
       "        vertical-align: middle;\n",
       "    }\n",
       "\n",
       "    .dataframe tbody tr th {\n",
       "        vertical-align: top;\n",
       "    }\n",
       "\n",
       "    .dataframe thead th {\n",
       "        text-align: right;\n",
       "    }\n",
       "</style>\n",
       "<table border=\"1\" class=\"dataframe\">\n",
       "  <thead>\n",
       "    <tr style=\"text-align: right;\">\n",
       "      <th></th>\n",
       "      <th>Rank</th>\n",
       "      <th>Film</th>\n",
       "      <th>Year</th>\n",
       "      <th>Count</th>\n",
       "      <th>Running time\\n(minutes)</th>\n",
       "      <th>title_processed</th>\n",
       "      <th>movieId</th>\n",
       "      <th>title</th>\n",
       "      <th>genres</th>\n",
       "    </tr>\n",
       "  </thead>\n",
       "  <tbody>\n",
       "    <tr>\n",
       "      <th>0</th>\n",
       "      <td>1.0</td>\n",
       "      <td>Swearnet: The Movie</td>\n",
       "      <td>2014</td>\n",
       "      <td>935</td>\n",
       "      <td>112</td>\n",
       "      <td>swearnetthemovie</td>\n",
       "      <td>132132</td>\n",
       "      <td>Swearnet: The Movie (2014)</td>\n",
       "      <td>Comedy</td>\n",
       "    </tr>\n",
       "  </tbody>\n",
       "</table>\n",
       "</div>"
      ],
      "text/plain": [
       "   Rank                 Film  Year  Count  Running time\\n(minutes)  \\\n",
       "0   1.0  Swearnet: The Movie  2014    935                      112   \n",
       "\n",
       "    title_processed  movieId                       title  genres  \n",
       "0  swearnetthemovie   132132  Swearnet: The Movie (2014)  Comedy  "
      ]
     },
     "execution_count": 140,
     "metadata": {},
     "output_type": "execute_result"
    }
   ],
   "source": [
    "df_final.head(1)"
   ]
  },
  {
   "cell_type": "code",
   "execution_count": 141,
   "metadata": {},
   "outputs": [
    {
     "data": {
      "text/plain": [
       "0"
      ]
     },
     "execution_count": 141,
     "metadata": {},
     "output_type": "execute_result"
    }
   ],
   "source": [
    "df_final['movieId'].isna().sum()"
   ]
  },
  {
   "cell_type": "code",
   "execution_count": 142,
   "metadata": {
    "scrolled": true
   },
   "outputs": [
    {
     "data": {
      "text/plain": [
       "(173, 9)"
      ]
     },
     "execution_count": 142,
     "metadata": {},
     "output_type": "execute_result"
    }
   ],
   "source": [
    "df_final.shape"
   ]
  },
  {
   "cell_type": "code",
   "execution_count": 143,
   "metadata": {},
   "outputs": [],
   "source": [
    "df_final_bckp = df_final.copy()"
   ]
  },
  {
   "cell_type": "markdown",
   "metadata": {},
   "source": [
    "## Consistência e limpeza de dados"
   ]
  },
  {
   "cell_type": "code",
   "execution_count": 144,
   "metadata": {},
   "outputs": [
    {
     "data": {
      "text/plain": [
       "stateproperty    4\n",
       "badsanta         4\n",
       "monster          4\n",
       "skin             3\n",
       "legend           3\n",
       "                ..\n",
       "gridlockd        1\n",
       "stateofgrace     1\n",
       "mynameisjoe      1\n",
       "infamous         1\n",
       "nextdayair       1\n",
       "Name: title_processed, Length: 131, dtype: int64"
      ]
     },
     "execution_count": 144,
     "metadata": {},
     "output_type": "execute_result"
    }
   ],
   "source": [
    "df_final['title_processed'].value_counts()"
   ]
  },
  {
   "cell_type": "raw",
   "metadata": {},
   "source": [
    "Alguns filmes aparecem mais de uma vez. Verificar o porquê disso acontecer e fazer as devidas limpezas"
   ]
  },
  {
   "cell_type": "code",
   "execution_count": 145,
   "metadata": {},
   "outputs": [
    {
     "data": {
      "text/html": [
       "<div>\n",
       "<style scoped>\n",
       "    .dataframe tbody tr th:only-of-type {\n",
       "        vertical-align: middle;\n",
       "    }\n",
       "\n",
       "    .dataframe tbody tr th {\n",
       "        vertical-align: top;\n",
       "    }\n",
       "\n",
       "    .dataframe thead th {\n",
       "        text-align: right;\n",
       "    }\n",
       "</style>\n",
       "<table border=\"1\" class=\"dataframe\">\n",
       "  <thead>\n",
       "    <tr style=\"text-align: right;\">\n",
       "      <th></th>\n",
       "      <th>Rank</th>\n",
       "      <th>Film</th>\n",
       "      <th>Year</th>\n",
       "      <th>Count</th>\n",
       "      <th>Running time\\n(minutes)</th>\n",
       "      <th>title_processed</th>\n",
       "      <th>movieId</th>\n",
       "      <th>title</th>\n",
       "      <th>genres</th>\n",
       "    </tr>\n",
       "  </thead>\n",
       "  <tbody>\n",
       "    <tr>\n",
       "      <th>8</th>\n",
       "      <td>13.0</td>\n",
       "      <td>State Property</td>\n",
       "      <td>2002</td>\n",
       "      <td>321</td>\n",
       "      <td>88</td>\n",
       "      <td>stateproperty</td>\n",
       "      <td>5138</td>\n",
       "      <td>State Property (2002)</td>\n",
       "      <td>Action|Crime|Drama</td>\n",
       "    </tr>\n",
       "    <tr>\n",
       "      <th>9</th>\n",
       "      <td>13.0</td>\n",
       "      <td>State Property</td>\n",
       "      <td>2002</td>\n",
       "      <td>321</td>\n",
       "      <td>88</td>\n",
       "      <td>stateproperty</td>\n",
       "      <td>33132</td>\n",
       "      <td>State Property 2 (2005)</td>\n",
       "      <td>Action|Crime|Drama</td>\n",
       "    </tr>\n",
       "    <tr>\n",
       "      <th>10</th>\n",
       "      <td>35.0</td>\n",
       "      <td>State Property 2</td>\n",
       "      <td>2005</td>\n",
       "      <td>271</td>\n",
       "      <td>94</td>\n",
       "      <td>stateproperty</td>\n",
       "      <td>5138</td>\n",
       "      <td>State Property (2002)</td>\n",
       "      <td>Action|Crime|Drama</td>\n",
       "    </tr>\n",
       "    <tr>\n",
       "      <th>11</th>\n",
       "      <td>35.0</td>\n",
       "      <td>State Property 2</td>\n",
       "      <td>2005</td>\n",
       "      <td>271</td>\n",
       "      <td>94</td>\n",
       "      <td>stateproperty</td>\n",
       "      <td>33132</td>\n",
       "      <td>State Property 2 (2005)</td>\n",
       "      <td>Action|Crime|Drama</td>\n",
       "    </tr>\n",
       "  </tbody>\n",
       "</table>\n",
       "</div>"
      ],
      "text/plain": [
       "    Rank              Film  Year  Count  Running time\\n(minutes)  \\\n",
       "8   13.0    State Property  2002    321                       88   \n",
       "9   13.0    State Property  2002    321                       88   \n",
       "10  35.0  State Property 2  2005    271                       94   \n",
       "11  35.0  State Property 2  2005    271                       94   \n",
       "\n",
       "   title_processed  movieId                    title              genres  \n",
       "8    stateproperty     5138    State Property (2002)  Action|Crime|Drama  \n",
       "9    stateproperty    33132  State Property 2 (2005)  Action|Crime|Drama  \n",
       "10   stateproperty     5138    State Property (2002)  Action|Crime|Drama  \n",
       "11   stateproperty    33132  State Property 2 (2005)  Action|Crime|Drama  "
      ]
     },
     "execution_count": 145,
     "metadata": {},
     "output_type": "execute_result"
    }
   ],
   "source": [
    "df_final[df_final['title_processed'] == 'stateproperty']"
   ]
  },
  {
   "cell_type": "code",
   "execution_count": 146,
   "metadata": {},
   "outputs": [],
   "source": [
    "df_final.drop(index = [9,10], inplace = True)"
   ]
  },
  {
   "cell_type": "code",
   "execution_count": 147,
   "metadata": {},
   "outputs": [
    {
     "data": {
      "text/html": [
       "<div>\n",
       "<style scoped>\n",
       "    .dataframe tbody tr th:only-of-type {\n",
       "        vertical-align: middle;\n",
       "    }\n",
       "\n",
       "    .dataframe tbody tr th {\n",
       "        vertical-align: top;\n",
       "    }\n",
       "\n",
       "    .dataframe thead th {\n",
       "        text-align: right;\n",
       "    }\n",
       "</style>\n",
       "<table border=\"1\" class=\"dataframe\">\n",
       "  <thead>\n",
       "    <tr style=\"text-align: right;\">\n",
       "      <th></th>\n",
       "      <th>Rank</th>\n",
       "      <th>Film</th>\n",
       "      <th>Year</th>\n",
       "      <th>Count</th>\n",
       "      <th>Running time\\n(minutes)</th>\n",
       "      <th>title_processed</th>\n",
       "      <th>movieId</th>\n",
       "      <th>title</th>\n",
       "      <th>genres</th>\n",
       "    </tr>\n",
       "  </thead>\n",
       "  <tbody>\n",
       "    <tr>\n",
       "      <th>8</th>\n",
       "      <td>13.0</td>\n",
       "      <td>State Property</td>\n",
       "      <td>2002</td>\n",
       "      <td>321</td>\n",
       "      <td>88</td>\n",
       "      <td>stateproperty</td>\n",
       "      <td>5138</td>\n",
       "      <td>State Property (2002)</td>\n",
       "      <td>Action|Crime|Drama</td>\n",
       "    </tr>\n",
       "    <tr>\n",
       "      <th>11</th>\n",
       "      <td>35.0</td>\n",
       "      <td>State Property 2</td>\n",
       "      <td>2005</td>\n",
       "      <td>271</td>\n",
       "      <td>94</td>\n",
       "      <td>stateproperty</td>\n",
       "      <td>33132</td>\n",
       "      <td>State Property 2 (2005)</td>\n",
       "      <td>Action|Crime|Drama</td>\n",
       "    </tr>\n",
       "  </tbody>\n",
       "</table>\n",
       "</div>"
      ],
      "text/plain": [
       "    Rank              Film  Year  Count  Running time\\n(minutes)  \\\n",
       "8   13.0    State Property  2002    321                       88   \n",
       "11  35.0  State Property 2  2005    271                       94   \n",
       "\n",
       "   title_processed  movieId                    title              genres  \n",
       "8    stateproperty     5138    State Property (2002)  Action|Crime|Drama  \n",
       "11   stateproperty    33132  State Property 2 (2005)  Action|Crime|Drama  "
      ]
     },
     "execution_count": 147,
     "metadata": {},
     "output_type": "execute_result"
    }
   ],
   "source": [
    "df_final[df_final['title_processed'] == 'stateproperty']"
   ]
  },
  {
   "cell_type": "raw",
   "metadata": {},
   "source": [
    "Não é viável nem escalável fazer filme a filme. Encontrar uma forma de extrair o ano do título para fazer o merge\n",
    "com a coluna title_processed e year."
   ]
  },
  {
   "cell_type": "code",
   "execution_count": 149,
   "metadata": {},
   "outputs": [],
   "source": [
    "df_final = df_final_bckp"
   ]
  },
  {
   "cell_type": "code",
   "execution_count": 150,
   "metadata": {},
   "outputs": [
    {
     "data": {
      "text/html": [
       "<div>\n",
       "<style scoped>\n",
       "    .dataframe tbody tr th:only-of-type {\n",
       "        vertical-align: middle;\n",
       "    }\n",
       "\n",
       "    .dataframe tbody tr th {\n",
       "        vertical-align: top;\n",
       "    }\n",
       "\n",
       "    .dataframe thead th {\n",
       "        text-align: right;\n",
       "    }\n",
       "</style>\n",
       "<table border=\"1\" class=\"dataframe\">\n",
       "  <thead>\n",
       "    <tr style=\"text-align: right;\">\n",
       "      <th></th>\n",
       "      <th>Rank</th>\n",
       "      <th>Film</th>\n",
       "      <th>Year</th>\n",
       "      <th>Count</th>\n",
       "      <th>Running time\\n(minutes)</th>\n",
       "      <th>title_processed</th>\n",
       "      <th>movieId</th>\n",
       "      <th>title</th>\n",
       "      <th>genres</th>\n",
       "    </tr>\n",
       "  </thead>\n",
       "  <tbody>\n",
       "    <tr>\n",
       "      <th>0</th>\n",
       "      <td>1.0</td>\n",
       "      <td>Swearnet: The Movie</td>\n",
       "      <td>2014</td>\n",
       "      <td>935</td>\n",
       "      <td>112</td>\n",
       "      <td>swearnetthemovie</td>\n",
       "      <td>132132</td>\n",
       "      <td>Swearnet: The Movie (2014)</td>\n",
       "      <td>Comedy</td>\n",
       "    </tr>\n",
       "  </tbody>\n",
       "</table>\n",
       "</div>"
      ],
      "text/plain": [
       "   Rank                 Film  Year  Count  Running time\\n(minutes)  \\\n",
       "0   1.0  Swearnet: The Movie  2014    935                      112   \n",
       "\n",
       "    title_processed  movieId                       title  genres  \n",
       "0  swearnetthemovie   132132  Swearnet: The Movie (2014)  Comedy  "
      ]
     },
     "execution_count": 150,
     "metadata": {},
     "output_type": "execute_result"
    }
   ],
   "source": [
    "df_final.head(1)"
   ]
  },
  {
   "cell_type": "markdown",
   "metadata": {},
   "source": [
    "### df_final parte 1: sem duplicadas"
   ]
  },
  {
   "cell_type": "code",
   "execution_count": 151,
   "metadata": {},
   "outputs": [
    {
     "data": {
      "text/plain": [
       "stateproperty    4\n",
       "badsanta         4\n",
       "monster          4\n",
       "skin             3\n",
       "legend           3\n",
       "                ..\n",
       "gridlockd        1\n",
       "stateofgrace     1\n",
       "mynameisjoe      1\n",
       "infamous         1\n",
       "nextdayair       1\n",
       "Name: title_processed, Length: 131, dtype: int64"
      ]
     },
     "execution_count": 151,
     "metadata": {},
     "output_type": "execute_result"
    }
   ],
   "source": [
    "df_final['title_processed'].value_counts()"
   ]
  },
  {
   "cell_type": "code",
   "execution_count": 152,
   "metadata": {},
   "outputs": [],
   "source": [
    "df_count = df_final['title_processed'].value_counts().to_frame('counts')"
   ]
  },
  {
   "cell_type": "code",
   "execution_count": 153,
   "metadata": {},
   "outputs": [
    {
     "data": {
      "text/html": [
       "<div>\n",
       "<style scoped>\n",
       "    .dataframe tbody tr th:only-of-type {\n",
       "        vertical-align: middle;\n",
       "    }\n",
       "\n",
       "    .dataframe tbody tr th {\n",
       "        vertical-align: top;\n",
       "    }\n",
       "\n",
       "    .dataframe thead th {\n",
       "        text-align: right;\n",
       "    }\n",
       "</style>\n",
       "<table border=\"1\" class=\"dataframe\">\n",
       "  <thead>\n",
       "    <tr style=\"text-align: right;\">\n",
       "      <th></th>\n",
       "      <th>counts</th>\n",
       "    </tr>\n",
       "  </thead>\n",
       "  <tbody>\n",
       "    <tr>\n",
       "      <th>dolemiteismyname</th>\n",
       "      <td>1</td>\n",
       "    </tr>\n",
       "    <tr>\n",
       "      <th>badboysii</th>\n",
       "      <td>1</td>\n",
       "    </tr>\n",
       "    <tr>\n",
       "      <th>boilerroom</th>\n",
       "      <td>1</td>\n",
       "    </tr>\n",
       "    <tr>\n",
       "      <th>allaboutthebenjamins</th>\n",
       "      <td>1</td>\n",
       "    </tr>\n",
       "    <tr>\n",
       "      <th>mids</th>\n",
       "      <td>1</td>\n",
       "    </tr>\n",
       "    <tr>\n",
       "      <th>...</th>\n",
       "      <td>...</td>\n",
       "    </tr>\n",
       "    <tr>\n",
       "      <th>gridlockd</th>\n",
       "      <td>1</td>\n",
       "    </tr>\n",
       "    <tr>\n",
       "      <th>stateofgrace</th>\n",
       "      <td>1</td>\n",
       "    </tr>\n",
       "    <tr>\n",
       "      <th>mynameisjoe</th>\n",
       "      <td>1</td>\n",
       "    </tr>\n",
       "    <tr>\n",
       "      <th>infamous</th>\n",
       "      <td>1</td>\n",
       "    </tr>\n",
       "    <tr>\n",
       "      <th>nextdayair</th>\n",
       "      <td>1</td>\n",
       "    </tr>\n",
       "  </tbody>\n",
       "</table>\n",
       "<p>102 rows × 1 columns</p>\n",
       "</div>"
      ],
      "text/plain": [
       "                      counts\n",
       "dolemiteismyname           1\n",
       "badboysii                  1\n",
       "boilerroom                 1\n",
       "allaboutthebenjamins       1\n",
       "mids                       1\n",
       "...                      ...\n",
       "gridlockd                  1\n",
       "stateofgrace               1\n",
       "mynameisjoe                1\n",
       "infamous                   1\n",
       "nextdayair                 1\n",
       "\n",
       "[102 rows x 1 columns]"
      ]
     },
     "execution_count": 153,
     "metadata": {},
     "output_type": "execute_result"
    }
   ],
   "source": [
    "df_count[df_count['counts'] == 1]"
   ]
  },
  {
   "cell_type": "code",
   "execution_count": 154,
   "metadata": {},
   "outputs": [
    {
     "data": {
      "text/plain": [
       "102"
      ]
     },
     "execution_count": 154,
     "metadata": {},
     "output_type": "execute_result"
    }
   ],
   "source": [
    "df_count[df_count['counts'] == 1].shape[0]"
   ]
  },
  {
   "cell_type": "code",
   "execution_count": 155,
   "metadata": {},
   "outputs": [
    {
     "data": {
      "text/plain": [
       "29"
      ]
     },
     "execution_count": 155,
     "metadata": {},
     "output_type": "execute_result"
    }
   ],
   "source": [
    "df_count[df_count['counts'] != 1].shape[0]"
   ]
  },
  {
   "cell_type": "code",
   "execution_count": 156,
   "metadata": {},
   "outputs": [],
   "source": [
    "# Criação do df_final_1, com os filmes que não tem duplicadas\n",
    "lista_1 = list(df_count[df_count['counts'] == 1].index)\n",
    "df_final_1 = df_final[df_final['title_processed'].isin(lista_1)]"
   ]
  },
  {
   "cell_type": "markdown",
   "metadata": {},
   "source": [
    "### df_final parte 2: criação e remoção de duplicadas"
   ]
  },
  {
   "cell_type": "code",
   "execution_count": 185,
   "metadata": {},
   "outputs": [],
   "source": [
    "# Criação do df_final_2, com os filmes que não tem duplicadas\n",
    "lista_2 = list(df_count[df_count['counts'] > 1].index)\n",
    "df_parte_2 = df_final[df_final['title_processed'].isin(lista_2)]"
   ]
  },
  {
   "cell_type": "code",
   "execution_count": 186,
   "metadata": {},
   "outputs": [
    {
     "data": {
      "text/plain": [
       "71"
      ]
     },
     "execution_count": 186,
     "metadata": {},
     "output_type": "execute_result"
    }
   ],
   "source": [
    "df_parte_2.shape[0]"
   ]
  },
  {
   "cell_type": "code",
   "execution_count": 187,
   "metadata": {},
   "outputs": [
    {
     "data": {
      "text/html": [
       "<div>\n",
       "<style scoped>\n",
       "    .dataframe tbody tr th:only-of-type {\n",
       "        vertical-align: middle;\n",
       "    }\n",
       "\n",
       "    .dataframe tbody tr th {\n",
       "        vertical-align: top;\n",
       "    }\n",
       "\n",
       "    .dataframe thead th {\n",
       "        text-align: right;\n",
       "    }\n",
       "</style>\n",
       "<table border=\"1\" class=\"dataframe\">\n",
       "  <thead>\n",
       "    <tr style=\"text-align: right;\">\n",
       "      <th></th>\n",
       "      <th>Rank</th>\n",
       "      <th>Film</th>\n",
       "      <th>Year</th>\n",
       "      <th>Count</th>\n",
       "      <th>Running time\\n(minutes)</th>\n",
       "      <th>title_processed</th>\n",
       "      <th>movieId</th>\n",
       "      <th>title</th>\n",
       "      <th>genres</th>\n",
       "    </tr>\n",
       "  </thead>\n",
       "  <tbody>\n",
       "    <tr>\n",
       "      <th>8</th>\n",
       "      <td>13.0</td>\n",
       "      <td>State Property</td>\n",
       "      <td>2002</td>\n",
       "      <td>321</td>\n",
       "      <td>88</td>\n",
       "      <td>stateproperty</td>\n",
       "      <td>5138</td>\n",
       "      <td>State Property (2002)</td>\n",
       "      <td>Action|Crime|Drama</td>\n",
       "    </tr>\n",
       "    <tr>\n",
       "      <th>9</th>\n",
       "      <td>13.0</td>\n",
       "      <td>State Property</td>\n",
       "      <td>2002</td>\n",
       "      <td>321</td>\n",
       "      <td>88</td>\n",
       "      <td>stateproperty</td>\n",
       "      <td>33132</td>\n",
       "      <td>State Property 2 (2005)</td>\n",
       "      <td>Action|Crime|Drama</td>\n",
       "    </tr>\n",
       "    <tr>\n",
       "      <th>10</th>\n",
       "      <td>35.0</td>\n",
       "      <td>State Property 2</td>\n",
       "      <td>2005</td>\n",
       "      <td>271</td>\n",
       "      <td>94</td>\n",
       "      <td>stateproperty</td>\n",
       "      <td>5138</td>\n",
       "      <td>State Property (2002)</td>\n",
       "      <td>Action|Crime|Drama</td>\n",
       "    </tr>\n",
       "    <tr>\n",
       "      <th>11</th>\n",
       "      <td>35.0</td>\n",
       "      <td>State Property 2</td>\n",
       "      <td>2005</td>\n",
       "      <td>271</td>\n",
       "      <td>94</td>\n",
       "      <td>stateproperty</td>\n",
       "      <td>33132</td>\n",
       "      <td>State Property 2 (2005)</td>\n",
       "      <td>Action|Crime|Drama</td>\n",
       "    </tr>\n",
       "    <tr>\n",
       "      <th>13</th>\n",
       "      <td>16.0</td>\n",
       "      <td>Running Scared</td>\n",
       "      <td>2006</td>\n",
       "      <td>315</td>\n",
       "      <td>122</td>\n",
       "      <td>runningscared</td>\n",
       "      <td>2457</td>\n",
       "      <td>Running Scared (1986)</td>\n",
       "      <td>Action|Comedy</td>\n",
       "    </tr>\n",
       "    <tr>\n",
       "      <th>14</th>\n",
       "      <td>16.0</td>\n",
       "      <td>Running Scared</td>\n",
       "      <td>2006</td>\n",
       "      <td>315</td>\n",
       "      <td>122</td>\n",
       "      <td>runningscared</td>\n",
       "      <td>5240</td>\n",
       "      <td>Running Scared (1980)</td>\n",
       "      <td>Action|Drama</td>\n",
       "    </tr>\n",
       "    <tr>\n",
       "      <th>15</th>\n",
       "      <td>16.0</td>\n",
       "      <td>Running Scared</td>\n",
       "      <td>2006</td>\n",
       "      <td>315</td>\n",
       "      <td>122</td>\n",
       "      <td>runningscared</td>\n",
       "      <td>43921</td>\n",
       "      <td>Running Scared (2006)</td>\n",
       "      <td>Action|Crime|Thriller</td>\n",
       "    </tr>\n",
       "    <tr>\n",
       "      <th>16</th>\n",
       "      <td>17.0</td>\n",
       "      <td>Sweet Sixteen</td>\n",
       "      <td>2002</td>\n",
       "      <td>313</td>\n",
       "      <td>106</td>\n",
       "      <td>sweetsixteen</td>\n",
       "      <td>6898</td>\n",
       "      <td>Sweet Sixteen (2002)</td>\n",
       "      <td>Drama</td>\n",
       "    </tr>\n",
       "    <tr>\n",
       "      <th>17</th>\n",
       "      <td>17.0</td>\n",
       "      <td>Sweet Sixteen</td>\n",
       "      <td>2002</td>\n",
       "      <td>313</td>\n",
       "      <td>106</td>\n",
       "      <td>sweetsixteen</td>\n",
       "      <td>133990</td>\n",
       "      <td>Sweet Sixteen (1983)</td>\n",
       "      <td>Horror|Thriller</td>\n",
       "    </tr>\n",
       "    <tr>\n",
       "      <th>28</th>\n",
       "      <td>31.0</td>\n",
       "      <td>Dirty</td>\n",
       "      <td>2005</td>\n",
       "      <td>280</td>\n",
       "      <td>97</td>\n",
       "      <td>dirty</td>\n",
       "      <td>105492</td>\n",
       "      <td>Dirty (2005)</td>\n",
       "      <td>Crime|Drama|Thriller</td>\n",
       "    </tr>\n",
       "  </tbody>\n",
       "</table>\n",
       "</div>"
      ],
      "text/plain": [
       "    Rank              Film  Year  Count  Running time\\n(minutes)  \\\n",
       "8   13.0    State Property  2002    321                       88   \n",
       "9   13.0    State Property  2002    321                       88   \n",
       "10  35.0  State Property 2  2005    271                       94   \n",
       "11  35.0  State Property 2  2005    271                       94   \n",
       "13  16.0    Running Scared  2006    315                      122   \n",
       "14  16.0    Running Scared  2006    315                      122   \n",
       "15  16.0    Running Scared  2006    315                      122   \n",
       "16  17.0     Sweet Sixteen  2002    313                      106   \n",
       "17  17.0     Sweet Sixteen  2002    313                      106   \n",
       "28  31.0             Dirty  2005    280                       97   \n",
       "\n",
       "   title_processed  movieId                    title                 genres  \n",
       "8    stateproperty     5138    State Property (2002)     Action|Crime|Drama  \n",
       "9    stateproperty    33132  State Property 2 (2005)     Action|Crime|Drama  \n",
       "10   stateproperty     5138    State Property (2002)     Action|Crime|Drama  \n",
       "11   stateproperty    33132  State Property 2 (2005)     Action|Crime|Drama  \n",
       "13   runningscared     2457    Running Scared (1986)          Action|Comedy  \n",
       "14   runningscared     5240    Running Scared (1980)           Action|Drama  \n",
       "15   runningscared    43921    Running Scared (2006)  Action|Crime|Thriller  \n",
       "16    sweetsixteen     6898     Sweet Sixteen (2002)                  Drama  \n",
       "17    sweetsixteen   133990     Sweet Sixteen (1983)        Horror|Thriller  \n",
       "28           dirty   105492             Dirty (2005)   Crime|Drama|Thriller  "
      ]
     },
     "execution_count": 187,
     "metadata": {},
     "output_type": "execute_result"
    }
   ],
   "source": [
    "df_parte_2.head(10)"
   ]
  },
  {
   "cell_type": "code",
   "execution_count": 188,
   "metadata": {},
   "outputs": [
    {
     "name": "stderr",
     "output_type": "stream",
     "text": [
      "/home/heliomar/anaconda3/lib/python3.7/site-packages/ipykernel_launcher.py:2: SettingWithCopyWarning: \n",
      "A value is trying to be set on a copy of a slice from a DataFrame.\n",
      "Try using .loc[row_indexer,col_indexer] = value instead\n",
      "\n",
      "See the caveats in the documentation: https://pandas.pydata.org/pandas-docs/stable/user_guide/indexing.html#returning-a-view-versus-a-copy\n",
      "  \n"
     ]
    }
   ],
   "source": [
    "# Coluna year_from_title: informação do ano retirada do título\n",
    "df_parte_2['year_from_title'] = df_parte_2['title'].str.extract('\\((\\d+)\\)$')"
   ]
  },
  {
   "cell_type": "code",
   "execution_count": 189,
   "metadata": {},
   "outputs": [
    {
     "data": {
      "text/html": [
       "<div>\n",
       "<style scoped>\n",
       "    .dataframe tbody tr th:only-of-type {\n",
       "        vertical-align: middle;\n",
       "    }\n",
       "\n",
       "    .dataframe tbody tr th {\n",
       "        vertical-align: top;\n",
       "    }\n",
       "\n",
       "    .dataframe thead th {\n",
       "        text-align: right;\n",
       "    }\n",
       "</style>\n",
       "<table border=\"1\" class=\"dataframe\">\n",
       "  <thead>\n",
       "    <tr style=\"text-align: right;\">\n",
       "      <th></th>\n",
       "      <th>Rank</th>\n",
       "      <th>Film</th>\n",
       "      <th>Year</th>\n",
       "      <th>Count</th>\n",
       "      <th>Running time\\n(minutes)</th>\n",
       "      <th>title_processed</th>\n",
       "      <th>movieId</th>\n",
       "      <th>title</th>\n",
       "      <th>genres</th>\n",
       "      <th>year_from_title</th>\n",
       "    </tr>\n",
       "  </thead>\n",
       "  <tbody>\n",
       "    <tr>\n",
       "      <th>8</th>\n",
       "      <td>13.0</td>\n",
       "      <td>State Property</td>\n",
       "      <td>2002</td>\n",
       "      <td>321</td>\n",
       "      <td>88</td>\n",
       "      <td>stateproperty</td>\n",
       "      <td>5138</td>\n",
       "      <td>State Property (2002)</td>\n",
       "      <td>Action|Crime|Drama</td>\n",
       "      <td>2002</td>\n",
       "    </tr>\n",
       "  </tbody>\n",
       "</table>\n",
       "</div>"
      ],
      "text/plain": [
       "   Rank            Film  Year  Count  Running time\\n(minutes) title_processed  \\\n",
       "8  13.0  State Property  2002    321                       88   stateproperty   \n",
       "\n",
       "   movieId                  title              genres year_from_title  \n",
       "8     5138  State Property (2002)  Action|Crime|Drama            2002  "
      ]
     },
     "execution_count": 189,
     "metadata": {},
     "output_type": "execute_result"
    }
   ],
   "source": [
    "df_parte_2.head(1)"
   ]
  },
  {
   "cell_type": "code",
   "execution_count": 190,
   "metadata": {},
   "outputs": [
    {
     "data": {
      "text/html": [
       "<div>\n",
       "<style scoped>\n",
       "    .dataframe tbody tr th:only-of-type {\n",
       "        vertical-align: middle;\n",
       "    }\n",
       "\n",
       "    .dataframe tbody tr th {\n",
       "        vertical-align: top;\n",
       "    }\n",
       "\n",
       "    .dataframe thead th {\n",
       "        text-align: right;\n",
       "    }\n",
       "</style>\n",
       "<table border=\"1\" class=\"dataframe\">\n",
       "  <thead>\n",
       "    <tr style=\"text-align: right;\">\n",
       "      <th></th>\n",
       "      <th>Rank</th>\n",
       "      <th>Film</th>\n",
       "      <th>Year</th>\n",
       "      <th>Count</th>\n",
       "      <th>Running time\\n(minutes)</th>\n",
       "      <th>title_processed</th>\n",
       "      <th>movieId</th>\n",
       "      <th>title</th>\n",
       "      <th>genres</th>\n",
       "      <th>year_from_title</th>\n",
       "    </tr>\n",
       "  </thead>\n",
       "  <tbody>\n",
       "  </tbody>\n",
       "</table>\n",
       "</div>"
      ],
      "text/plain": [
       "Empty DataFrame\n",
       "Columns: [Rank, Film, Year, Count, Running time\n",
       "(minutes), title_processed, movieId, title, genres, year_from_title]\n",
       "Index: []"
      ]
     },
     "execution_count": 190,
     "metadata": {},
     "output_type": "execute_result"
    }
   ],
   "source": [
    "df_parte_2[df_parte_2['Year'] == df_parte_2['year_from_title']]"
   ]
  },
  {
   "cell_type": "code",
   "execution_count": 191,
   "metadata": {},
   "outputs": [
    {
     "name": "stdout",
     "output_type": "stream",
     "text": [
      "<class 'pandas.core.frame.DataFrame'>\n",
      "Int64Index: 71 entries, 8 to 172\n",
      "Data columns (total 10 columns):\n",
      " #   Column                  Non-Null Count  Dtype  \n",
      "---  ------                  --------------  -----  \n",
      " 0   Rank                    71 non-null     float64\n",
      " 1   Film                    71 non-null     object \n",
      " 2   Year                    71 non-null     int64  \n",
      " 3   Count                   71 non-null     int64  \n",
      " 4   Running time\n",
      "(minutes)  71 non-null     int64  \n",
      " 5   title_processed         71 non-null     object \n",
      " 6   movieId                 71 non-null     int64  \n",
      " 7   title                   71 non-null     object \n",
      " 8   genres                  71 non-null     object \n",
      " 9   year_from_title         71 non-null     object \n",
      "dtypes: float64(1), int64(4), object(5)\n",
      "memory usage: 6.1+ KB\n"
     ]
    }
   ],
   "source": [
    "df_parte_2.info()"
   ]
  },
  {
   "cell_type": "code",
   "execution_count": 192,
   "metadata": {},
   "outputs": [
    {
     "name": "stderr",
     "output_type": "stream",
     "text": [
      "/home/heliomar/anaconda3/lib/python3.7/site-packages/ipykernel_launcher.py:1: SettingWithCopyWarning: \n",
      "A value is trying to be set on a copy of a slice from a DataFrame.\n",
      "Try using .loc[row_indexer,col_indexer] = value instead\n",
      "\n",
      "See the caveats in the documentation: https://pandas.pydata.org/pandas-docs/stable/user_guide/indexing.html#returning-a-view-versus-a-copy\n",
      "  \"\"\"Entry point for launching an IPython kernel.\n"
     ]
    }
   ],
   "source": [
    "df_parte_2['year_from_title'] = df_parte_2['year_from_title'].astype(str).astype(int)"
   ]
  },
  {
   "cell_type": "code",
   "execution_count": 193,
   "metadata": {},
   "outputs": [
    {
     "data": {
      "text/plain": [
       "30"
      ]
     },
     "execution_count": 193,
     "metadata": {},
     "output_type": "execute_result"
    }
   ],
   "source": [
    "df_parte_2[df_parte_2['Year'] == df_parte_2['year_from_title']].shape[0]"
   ]
  },
  {
   "cell_type": "code",
   "execution_count": 197,
   "metadata": {},
   "outputs": [],
   "source": [
    "# Criação do df_final_2, que é o dataframe definitivo com os filmes duplicados\n",
    "df_final_2 = df_parte_2[df_parte_2['Year'] == df_parte_2['year_from_title']].copy()"
   ]
  },
  {
   "cell_type": "code",
   "execution_count": 202,
   "metadata": {},
   "outputs": [
    {
     "name": "stderr",
     "output_type": "stream",
     "text": [
      "/home/heliomar/anaconda3/lib/python3.7/site-packages/pandas/core/frame.py:4913: SettingWithCopyWarning: \n",
      "A value is trying to be set on a copy of a slice from a DataFrame\n",
      "\n",
      "See the caveats in the documentation: https://pandas.pydata.org/pandas-docs/stable/user_guide/indexing.html#returning-a-view-versus-a-copy\n",
      "  errors=errors,\n"
     ]
    }
   ],
   "source": [
    "# Retirar os filmes que já tem a coluna Year == year_from_title\n",
    "contador = 0\n",
    "for film in list(df_parte_2[df_parte_2['Year'] == df_parte_2['year_from_title']]['Film']):\n",
    "    if film in list(df_parte_2[df_parte_2['Year'] != df_parte_2['year_from_title']]['Film']):\n",
    "        contador += 1\n",
    "        df_parte_2.drop(df_parte_2[df_parte_2['Film'] == film].index, inplace = True)"
   ]
  },
  {
   "cell_type": "code",
   "execution_count": 203,
   "metadata": {},
   "outputs": [
    {
     "data": {
      "text/plain": [
       "30"
      ]
     },
     "execution_count": 203,
     "metadata": {},
     "output_type": "execute_result"
    }
   ],
   "source": [
    "contador"
   ]
  },
  {
   "cell_type": "code",
   "execution_count": 205,
   "metadata": {},
   "outputs": [
    {
     "data": {
      "text/plain": [
       "2"
      ]
     },
     "execution_count": 205,
     "metadata": {},
     "output_type": "execute_result"
    }
   ],
   "source": [
    "df_parte_2[df_parte_2['Year'] != df_parte_2['year_from_title']].shape[0]"
   ]
  },
  {
   "cell_type": "code",
   "execution_count": 206,
   "metadata": {
    "scrolled": true
   },
   "outputs": [
    {
     "data": {
      "text/html": [
       "<div>\n",
       "<style scoped>\n",
       "    .dataframe tbody tr th:only-of-type {\n",
       "        vertical-align: middle;\n",
       "    }\n",
       "\n",
       "    .dataframe tbody tr th {\n",
       "        vertical-align: top;\n",
       "    }\n",
       "\n",
       "    .dataframe thead th {\n",
       "        text-align: right;\n",
       "    }\n",
       "</style>\n",
       "<table border=\"1\" class=\"dataframe\">\n",
       "  <thead>\n",
       "    <tr style=\"text-align: right;\">\n",
       "      <th></th>\n",
       "      <th>Rank</th>\n",
       "      <th>Film</th>\n",
       "      <th>Year</th>\n",
       "      <th>Count</th>\n",
       "      <th>Running time\\n(minutes)</th>\n",
       "      <th>title_processed</th>\n",
       "      <th>movieId</th>\n",
       "      <th>title</th>\n",
       "      <th>genres</th>\n",
       "      <th>year_from_title</th>\n",
       "    </tr>\n",
       "  </thead>\n",
       "  <tbody>\n",
       "    <tr>\n",
       "      <th>32</th>\n",
       "      <td>33.0</td>\n",
       "      <td>Cherry</td>\n",
       "      <td>2021</td>\n",
       "      <td>276</td>\n",
       "      <td>140</td>\n",
       "      <td>cherry</td>\n",
       "      <td>4092</td>\n",
       "      <td>Cherry 2000 (1987)</td>\n",
       "      <td>Romance|Sci-Fi</td>\n",
       "      <td>1987</td>\n",
       "    </tr>\n",
       "    <tr>\n",
       "      <th>33</th>\n",
       "      <td>33.0</td>\n",
       "      <td>Cherry</td>\n",
       "      <td>2021</td>\n",
       "      <td>276</td>\n",
       "      <td>140</td>\n",
       "      <td>cherry</td>\n",
       "      <td>91048</td>\n",
       "      <td>Cherry (2010)</td>\n",
       "      <td>Comedy|Drama</td>\n",
       "      <td>2010</td>\n",
       "    </tr>\n",
       "  </tbody>\n",
       "</table>\n",
       "</div>"
      ],
      "text/plain": [
       "    Rank    Film  Year  Count  Running time\\n(minutes) title_processed  \\\n",
       "32  33.0  Cherry  2021    276                      140          cherry   \n",
       "33  33.0  Cherry  2021    276                      140          cherry   \n",
       "\n",
       "    movieId               title          genres  year_from_title  \n",
       "32     4092  Cherry 2000 (1987)  Romance|Sci-Fi             1987  \n",
       "33    91048       Cherry (2010)    Comedy|Drama             2010  "
      ]
     },
     "execution_count": 206,
     "metadata": {},
     "output_type": "execute_result"
    }
   ],
   "source": [
    "df_parte_2[df_parte_2['Year'] != df_parte_2['year_from_title']]"
   ]
  },
  {
   "cell_type": "raw",
   "metadata": {},
   "source": [
    "Dos filmes em que o Year é diferente de year_from_tutle, nenhum deve ser incorporado ao dataframe final"
   ]
  },
  {
   "cell_type": "markdown",
   "metadata": {},
   "source": [
    "## Criação do dataframe final"
   ]
  },
  {
   "cell_type": "code",
   "execution_count": 209,
   "metadata": {},
   "outputs": [
    {
     "data": {
      "text/html": [
       "<div>\n",
       "<style scoped>\n",
       "    .dataframe tbody tr th:only-of-type {\n",
       "        vertical-align: middle;\n",
       "    }\n",
       "\n",
       "    .dataframe tbody tr th {\n",
       "        vertical-align: top;\n",
       "    }\n",
       "\n",
       "    .dataframe thead th {\n",
       "        text-align: right;\n",
       "    }\n",
       "</style>\n",
       "<table border=\"1\" class=\"dataframe\">\n",
       "  <thead>\n",
       "    <tr style=\"text-align: right;\">\n",
       "      <th></th>\n",
       "      <th>Rank</th>\n",
       "      <th>Film</th>\n",
       "      <th>Year</th>\n",
       "      <th>Count</th>\n",
       "      <th>Running time\\n(minutes)</th>\n",
       "      <th>title_processed</th>\n",
       "      <th>movieId</th>\n",
       "      <th>title</th>\n",
       "      <th>genres</th>\n",
       "    </tr>\n",
       "  </thead>\n",
       "  <tbody>\n",
       "    <tr>\n",
       "      <th>0</th>\n",
       "      <td>1.0</td>\n",
       "      <td>Swearnet: The Movie</td>\n",
       "      <td>2014</td>\n",
       "      <td>935</td>\n",
       "      <td>112</td>\n",
       "      <td>swearnetthemovie</td>\n",
       "      <td>132132</td>\n",
       "      <td>Swearnet: The Movie (2014)</td>\n",
       "      <td>Comedy</td>\n",
       "    </tr>\n",
       "  </tbody>\n",
       "</table>\n",
       "</div>"
      ],
      "text/plain": [
       "   Rank                 Film  Year  Count  Running time\\n(minutes)  \\\n",
       "0   1.0  Swearnet: The Movie  2014    935                      112   \n",
       "\n",
       "    title_processed  movieId                       title  genres  \n",
       "0  swearnetthemovie   132132  Swearnet: The Movie (2014)  Comedy  "
      ]
     },
     "execution_count": 209,
     "metadata": {},
     "output_type": "execute_result"
    }
   ],
   "source": [
    "df_final_1.head(1)"
   ]
  },
  {
   "cell_type": "code",
   "execution_count": 210,
   "metadata": {},
   "outputs": [
    {
     "data": {
      "text/html": [
       "<div>\n",
       "<style scoped>\n",
       "    .dataframe tbody tr th:only-of-type {\n",
       "        vertical-align: middle;\n",
       "    }\n",
       "\n",
       "    .dataframe tbody tr th {\n",
       "        vertical-align: top;\n",
       "    }\n",
       "\n",
       "    .dataframe thead th {\n",
       "        text-align: right;\n",
       "    }\n",
       "</style>\n",
       "<table border=\"1\" class=\"dataframe\">\n",
       "  <thead>\n",
       "    <tr style=\"text-align: right;\">\n",
       "      <th></th>\n",
       "      <th>Rank</th>\n",
       "      <th>Film</th>\n",
       "      <th>Year</th>\n",
       "      <th>Count</th>\n",
       "      <th>Running time\\n(minutes)</th>\n",
       "      <th>title_processed</th>\n",
       "      <th>movieId</th>\n",
       "      <th>title</th>\n",
       "      <th>genres</th>\n",
       "      <th>year_from_title</th>\n",
       "    </tr>\n",
       "  </thead>\n",
       "  <tbody>\n",
       "    <tr>\n",
       "      <th>8</th>\n",
       "      <td>13.0</td>\n",
       "      <td>State Property</td>\n",
       "      <td>2002</td>\n",
       "      <td>321</td>\n",
       "      <td>88</td>\n",
       "      <td>stateproperty</td>\n",
       "      <td>5138</td>\n",
       "      <td>State Property (2002)</td>\n",
       "      <td>Action|Crime|Drama</td>\n",
       "      <td>2002</td>\n",
       "    </tr>\n",
       "  </tbody>\n",
       "</table>\n",
       "</div>"
      ],
      "text/plain": [
       "   Rank            Film  Year  Count  Running time\\n(minutes) title_processed  \\\n",
       "8  13.0  State Property  2002    321                       88   stateproperty   \n",
       "\n",
       "   movieId                  title              genres  year_from_title  \n",
       "8     5138  State Property (2002)  Action|Crime|Drama             2002  "
      ]
     },
     "execution_count": 210,
     "metadata": {},
     "output_type": "execute_result"
    }
   ],
   "source": [
    "df_final_2.head(1)"
   ]
  },
  {
   "cell_type": "code",
   "execution_count": 211,
   "metadata": {},
   "outputs": [],
   "source": [
    "df_final_2.drop( columns = 'year_from_title', inplace = True)"
   ]
  },
  {
   "cell_type": "code",
   "execution_count": 212,
   "metadata": {},
   "outputs": [
    {
     "data": {
      "text/plain": [
       "array([ True,  True,  True,  True,  True,  True,  True,  True,  True])"
      ]
     },
     "execution_count": 212,
     "metadata": {},
     "output_type": "execute_result"
    }
   ],
   "source": [
    "df_final_1.columns == df_final_2.columns"
   ]
  },
  {
   "cell_type": "code",
   "execution_count": 242,
   "metadata": {},
   "outputs": [],
   "source": [
    "df = df_final_1.append(df_final_2, ignore_index = True)"
   ]
  },
  {
   "cell_type": "code",
   "execution_count": 243,
   "metadata": {},
   "outputs": [
    {
     "data": {
      "text/plain": [
       "(132, 9)"
      ]
     },
     "execution_count": 243,
     "metadata": {},
     "output_type": "execute_result"
    }
   ],
   "source": [
    "df.shape"
   ]
  },
  {
   "cell_type": "code",
   "execution_count": 216,
   "metadata": {},
   "outputs": [
    {
     "data": {
      "text/html": [
       "<div>\n",
       "<style scoped>\n",
       "    .dataframe tbody tr th:only-of-type {\n",
       "        vertical-align: middle;\n",
       "    }\n",
       "\n",
       "    .dataframe tbody tr th {\n",
       "        vertical-align: top;\n",
       "    }\n",
       "\n",
       "    .dataframe thead th {\n",
       "        text-align: right;\n",
       "    }\n",
       "</style>\n",
       "<table border=\"1\" class=\"dataframe\">\n",
       "  <thead>\n",
       "    <tr style=\"text-align: right;\">\n",
       "      <th></th>\n",
       "      <th>Rank</th>\n",
       "      <th>Film</th>\n",
       "      <th>Year</th>\n",
       "      <th>Count</th>\n",
       "      <th>Running time\\n(minutes)</th>\n",
       "      <th>title_processed</th>\n",
       "      <th>movieId</th>\n",
       "      <th>title</th>\n",
       "      <th>genres</th>\n",
       "    </tr>\n",
       "  </thead>\n",
       "  <tbody>\n",
       "    <tr>\n",
       "      <th>0</th>\n",
       "      <td>1.0</td>\n",
       "      <td>Swearnet: The Movie</td>\n",
       "      <td>2014</td>\n",
       "      <td>935</td>\n",
       "      <td>112</td>\n",
       "      <td>swearnetthemovie</td>\n",
       "      <td>132132</td>\n",
       "      <td>Swearnet: The Movie (2014)</td>\n",
       "      <td>Comedy</td>\n",
       "    </tr>\n",
       "  </tbody>\n",
       "</table>\n",
       "</div>"
      ],
      "text/plain": [
       "   Rank                 Film  Year  Count  Running time\\n(minutes)  \\\n",
       "0   1.0  Swearnet: The Movie  2014    935                      112   \n",
       "\n",
       "    title_processed  movieId                       title  genres  \n",
       "0  swearnetthemovie   132132  Swearnet: The Movie (2014)  Comedy  "
      ]
     },
     "execution_count": 216,
     "metadata": {},
     "output_type": "execute_result"
    }
   ],
   "source": [
    "df.head(1)"
   ]
  },
  {
   "cell_type": "code",
   "execution_count": 217,
   "metadata": {},
   "outputs": [
    {
     "data": {
      "text/plain": [
       "Swearnet: The Movie           1\n",
       "Snatch                        1\n",
       "American Honey                1\n",
       "Soul Men                      1\n",
       "All About the Benjamins       1\n",
       "                             ..\n",
       "Zack and Miri Make a Porno    1\n",
       "Looking for Eric              1\n",
       "Suicide Kings                 1\n",
       "Eddie Murphy Raw              1\n",
       "The Night Before              1\n",
       "Name: Film, Length: 132, dtype: int64"
      ]
     },
     "execution_count": 217,
     "metadata": {},
     "output_type": "execute_result"
    }
   ],
   "source": [
    "df['Film'].value_counts()"
   ]
  },
  {
   "cell_type": "markdown",
   "metadata": {},
   "source": [
    "# Exploração inicial sobre df"
   ]
  },
  {
   "cell_type": "code",
   "execution_count": 218,
   "metadata": {},
   "outputs": [
    {
     "name": "stdout",
     "output_type": "stream",
     "text": [
      "<class 'pandas.core.frame.DataFrame'>\n",
      "RangeIndex: 132 entries, 0 to 131\n",
      "Data columns (total 9 columns):\n",
      " #   Column                  Non-Null Count  Dtype  \n",
      "---  ------                  --------------  -----  \n",
      " 0   Rank                    132 non-null    float64\n",
      " 1   Film                    132 non-null    object \n",
      " 2   Year                    132 non-null    int64  \n",
      " 3   Count                   132 non-null    int64  \n",
      " 4   Running time\n",
      "(minutes)  132 non-null    int64  \n",
      " 5   title_processed         132 non-null    object \n",
      " 6   movieId                 132 non-null    int64  \n",
      " 7   title                   132 non-null    object \n",
      " 8   genres                  132 non-null    object \n",
      "dtypes: float64(1), int64(4), object(4)\n",
      "memory usage: 9.4+ KB\n"
     ]
    }
   ],
   "source": [
    "df.info()"
   ]
  },
  {
   "cell_type": "code",
   "execution_count": 219,
   "metadata": {},
   "outputs": [
    {
     "data": {
      "text/html": [
       "<div>\n",
       "<style scoped>\n",
       "    .dataframe tbody tr th:only-of-type {\n",
       "        vertical-align: middle;\n",
       "    }\n",
       "\n",
       "    .dataframe tbody tr th {\n",
       "        vertical-align: top;\n",
       "    }\n",
       "\n",
       "    .dataframe thead th {\n",
       "        text-align: right;\n",
       "    }\n",
       "</style>\n",
       "<table border=\"1\" class=\"dataframe\">\n",
       "  <thead>\n",
       "    <tr style=\"text-align: right;\">\n",
       "      <th></th>\n",
       "      <th>Rank</th>\n",
       "      <th>Film</th>\n",
       "      <th>Year</th>\n",
       "      <th>Count</th>\n",
       "      <th>Running time\\n(minutes)</th>\n",
       "      <th>title_processed</th>\n",
       "      <th>movieId</th>\n",
       "      <th>title</th>\n",
       "      <th>genres</th>\n",
       "    </tr>\n",
       "  </thead>\n",
       "  <tbody>\n",
       "    <tr>\n",
       "      <th>0</th>\n",
       "      <td>1.0</td>\n",
       "      <td>Swearnet: The Movie</td>\n",
       "      <td>2014</td>\n",
       "      <td>935</td>\n",
       "      <td>112</td>\n",
       "      <td>swearnetthemovie</td>\n",
       "      <td>132132</td>\n",
       "      <td>Swearnet: The Movie (2014)</td>\n",
       "      <td>Comedy</td>\n",
       "    </tr>\n",
       "  </tbody>\n",
       "</table>\n",
       "</div>"
      ],
      "text/plain": [
       "   Rank                 Film  Year  Count  Running time\\n(minutes)  \\\n",
       "0   1.0  Swearnet: The Movie  2014    935                      112   \n",
       "\n",
       "    title_processed  movieId                       title  genres  \n",
       "0  swearnetthemovie   132132  Swearnet: The Movie (2014)  Comedy  "
      ]
     },
     "execution_count": 219,
     "metadata": {},
     "output_type": "execute_result"
    }
   ],
   "source": [
    "df.head(1)"
   ]
  },
  {
   "cell_type": "code",
   "execution_count": 222,
   "metadata": {},
   "outputs": [
    {
     "data": {
      "text/plain": [
       "2016    0.068182\n",
       "2002    0.068182\n",
       "1997    0.060606\n",
       "2012    0.060606\n",
       "1998    0.053030\n",
       "2003    0.053030\n",
       "2009    0.045455\n",
       "1999    0.045455\n",
       "2005    0.037879\n",
       "2017    0.037879\n",
       "2008    0.030303\n",
       "1993    0.030303\n",
       "2000    0.030303\n",
       "2013    0.030303\n",
       "2015    0.030303\n",
       "2006    0.030303\n",
       "1995    0.030303\n",
       "2018    0.022727\n",
       "2014    0.022727\n",
       "2010    0.022727\n",
       "2001    0.022727\n",
       "2007    0.015152\n",
       "2019    0.015152\n",
       "2022    0.015152\n",
       "1992    0.015152\n",
       "1989    0.015152\n",
       "1990    0.015152\n",
       "2004    0.007576\n",
       "2011    0.007576\n",
       "1996    0.007576\n",
       "1987    0.007576\n",
       "2020    0.007576\n",
       "1994    0.007576\n",
       "1986    0.007576\n",
       "1978    0.007576\n",
       "1988    0.007576\n",
       "1983    0.007576\n",
       "Name: Year, dtype: float64"
      ]
     },
     "execution_count": 222,
     "metadata": {},
     "output_type": "execute_result"
    }
   ],
   "source": [
    "df['Year'].value_counts(normalize= True)"
   ]
  },
  {
   "cell_type": "code",
   "execution_count": 220,
   "metadata": {},
   "outputs": [
    {
     "data": {
      "text/plain": [
       "count    132.000000\n",
       "mean     217.696970\n",
       "std       90.274386\n",
       "min      150.000000\n",
       "25%      163.250000\n",
       "50%      192.000000\n",
       "75%      237.000000\n",
       "max      935.000000\n",
       "Name: Count, dtype: float64"
      ]
     },
     "execution_count": 220,
     "metadata": {},
     "output_type": "execute_result"
    }
   ],
   "source": [
    "df['Count'].describe()"
   ]
  },
  {
   "cell_type": "code",
   "execution_count": 223,
   "metadata": {},
   "outputs": [
    {
     "data": {
      "text/plain": [
       "Drama                                  0.159091\n",
       "Comedy                                 0.121212\n",
       "Crime|Drama                            0.113636\n",
       "Action|Crime|Drama                     0.083333\n",
       "Crime|Drama|Thriller                   0.068182\n",
       "Comedy|Drama                           0.053030\n",
       "Action|Comedy|Crime                    0.045455\n",
       "Documentary                            0.022727\n",
       "Comedy|Documentary                     0.022727\n",
       "Drama|Romance                          0.022727\n",
       "Comedy|Crime|Drama                     0.022727\n",
       "Comedy|Crime                           0.015152\n",
       "Crime|Thriller                         0.015152\n",
       "Drama|Thriller                         0.015152\n",
       "Crime                                  0.015152\n",
       "Drama|War                              0.015152\n",
       "Action|Thriller                        0.007576\n",
       "Thriller                               0.007576\n",
       "Comedy|Fantasy|Sci-Fi                  0.007576\n",
       "Comedy|Crime|Thriller                  0.007576\n",
       "Comedy|Musical                         0.007576\n",
       "Comedy|Romance                         0.007576\n",
       "Action|Comedy|Crime|Thriller           0.007576\n",
       "Action|Drama|Thriller|War              0.007576\n",
       "Action|Crime|Thriller                  0.007576\n",
       "Comedy|Sci-Fi                          0.007576\n",
       "Action|Crime|Drama|Thriller            0.007576\n",
       "Animation|Comedy                       0.007576\n",
       "Crime|Drama|Mystery                    0.007576\n",
       "Mystery|Sci-Fi|Thriller                0.007576\n",
       "Action|Crime|Horror|Sci-Fi|Thriller    0.007576\n",
       "Action|Drama|War                       0.007576\n",
       "Action|Comedy                          0.007576\n",
       "Comedy|Drama|Romance                   0.007576\n",
       "Comedy|Drama|Fantasy                   0.007576\n",
       "Comedy|Crime|Drama|Mystery|Thriller    0.007576\n",
       "Horror|Thriller                        0.007576\n",
       "Adventure|Comedy                       0.007576\n",
       "Comedy|Crime|Drama|Thriller            0.007576\n",
       "Crime|Mystery|Thriller                 0.007576\n",
       "Drama|Musical                          0.007576\n",
       "Name: genres, dtype: float64"
      ]
     },
     "execution_count": 223,
     "metadata": {},
     "output_type": "execute_result"
    }
   ],
   "source": [
    "df['genres'].value_counts(normalize= True)"
   ]
  },
  {
   "cell_type": "code",
   "execution_count": 224,
   "metadata": {},
   "outputs": [
    {
     "data": {
      "text/html": [
       "<div>\n",
       "<style scoped>\n",
       "    .dataframe tbody tr th:only-of-type {\n",
       "        vertical-align: middle;\n",
       "    }\n",
       "\n",
       "    .dataframe tbody tr th {\n",
       "        vertical-align: top;\n",
       "    }\n",
       "\n",
       "    .dataframe thead th {\n",
       "        text-align: right;\n",
       "    }\n",
       "</style>\n",
       "<table border=\"1\" class=\"dataframe\">\n",
       "  <thead>\n",
       "    <tr style=\"text-align: right;\">\n",
       "      <th></th>\n",
       "      <th>Rank</th>\n",
       "      <th>Film</th>\n",
       "      <th>Year</th>\n",
       "      <th>Count</th>\n",
       "      <th>Running time\\n(minutes)</th>\n",
       "      <th>title_processed</th>\n",
       "      <th>movieId</th>\n",
       "      <th>title</th>\n",
       "      <th>genres</th>\n",
       "    </tr>\n",
       "  </thead>\n",
       "  <tbody>\n",
       "    <tr>\n",
       "      <th>0</th>\n",
       "      <td>1.0</td>\n",
       "      <td>Swearnet: The Movie</td>\n",
       "      <td>2014</td>\n",
       "      <td>935</td>\n",
       "      <td>112</td>\n",
       "      <td>swearnetthemovie</td>\n",
       "      <td>132132</td>\n",
       "      <td>Swearnet: The Movie (2014)</td>\n",
       "      <td>Comedy</td>\n",
       "    </tr>\n",
       "  </tbody>\n",
       "</table>\n",
       "</div>"
      ],
      "text/plain": [
       "   Rank                 Film  Year  Count  Running time\\n(minutes)  \\\n",
       "0   1.0  Swearnet: The Movie  2014    935                      112   \n",
       "\n",
       "    title_processed  movieId                       title  genres  \n",
       "0  swearnetthemovie   132132  Swearnet: The Movie (2014)  Comedy  "
      ]
     },
     "execution_count": 224,
     "metadata": {},
     "output_type": "execute_result"
    }
   ],
   "source": [
    "df.head(1)"
   ]
  },
  {
   "cell_type": "code",
   "execution_count": 225,
   "metadata": {},
   "outputs": [],
   "source": [
    "df['word_per_minute'] = df['Count']/df['Running time\\n(minutes)']"
   ]
  },
  {
   "cell_type": "code",
   "execution_count": 226,
   "metadata": {},
   "outputs": [
    {
     "data": {
      "text/plain": [
       "count    132.000000\n",
       "mean       1.986752\n",
       "std        0.836193\n",
       "min        0.877660\n",
       "25%        1.480946\n",
       "50%        1.818182\n",
       "75%        2.333778\n",
       "max        8.348214\n",
       "Name: word_per_minute, dtype: float64"
      ]
     },
     "execution_count": 226,
     "metadata": {},
     "output_type": "execute_result"
    }
   ],
   "source": [
    "df['word_per_minute'].describe()"
   ]
  },
  {
   "cell_type": "markdown",
   "metadata": {},
   "source": [
    "# df_rating"
   ]
  },
  {
   "cell_type": "code",
   "execution_count": 227,
   "metadata": {},
   "outputs": [],
   "source": [
    "df_rating =pd.read_csv('./ml-25m/ratings.csv')"
   ]
  },
  {
   "cell_type": "code",
   "execution_count": 228,
   "metadata": {},
   "outputs": [
    {
     "data": {
      "text/plain": [
       "(25000095, 4)"
      ]
     },
     "execution_count": 228,
     "metadata": {},
     "output_type": "execute_result"
    }
   ],
   "source": [
    "df_rating.shape"
   ]
  },
  {
   "cell_type": "code",
   "execution_count": 229,
   "metadata": {},
   "outputs": [
    {
     "data": {
      "text/html": [
       "<div>\n",
       "<style scoped>\n",
       "    .dataframe tbody tr th:only-of-type {\n",
       "        vertical-align: middle;\n",
       "    }\n",
       "\n",
       "    .dataframe tbody tr th {\n",
       "        vertical-align: top;\n",
       "    }\n",
       "\n",
       "    .dataframe thead th {\n",
       "        text-align: right;\n",
       "    }\n",
       "</style>\n",
       "<table border=\"1\" class=\"dataframe\">\n",
       "  <thead>\n",
       "    <tr style=\"text-align: right;\">\n",
       "      <th></th>\n",
       "      <th>userId</th>\n",
       "      <th>movieId</th>\n",
       "      <th>rating</th>\n",
       "      <th>timestamp</th>\n",
       "    </tr>\n",
       "  </thead>\n",
       "  <tbody>\n",
       "    <tr>\n",
       "      <th>0</th>\n",
       "      <td>1</td>\n",
       "      <td>296</td>\n",
       "      <td>5.0</td>\n",
       "      <td>1147880044</td>\n",
       "    </tr>\n",
       "  </tbody>\n",
       "</table>\n",
       "</div>"
      ],
      "text/plain": [
       "   userId  movieId  rating   timestamp\n",
       "0       1      296     5.0  1147880044"
      ]
     },
     "execution_count": 229,
     "metadata": {},
     "output_type": "execute_result"
    }
   ],
   "source": [
    "df_rating.head(1)"
   ]
  },
  {
   "cell_type": "code",
   "execution_count": 230,
   "metadata": {},
   "outputs": [
    {
     "data": {
      "text/plain": [
       "356     81491\n",
       "318     81482\n",
       "296     79672\n",
       "593     74127\n",
       "2571    72674\n",
       "260     68717\n",
       "480     64144\n",
       "527     60411\n",
       "110     59184\n",
       "2959    58773\n",
       "Name: movieId, dtype: int64"
      ]
     },
     "execution_count": 230,
     "metadata": {},
     "output_type": "execute_result"
    }
   ],
   "source": [
    "df_rating['movieId'].value_counts().head(10)"
   ]
  },
  {
   "cell_type": "code",
   "execution_count": 237,
   "metadata": {},
   "outputs": [],
   "source": [
    "df_avg_rating = df_rating.groupby(by = 'movieId')['rating'].agg(Mean = 'mean', Count = 'count')\n",
    "df_avg_rating.reset_index(inplace = True)"
   ]
  },
  {
   "cell_type": "code",
   "execution_count": 238,
   "metadata": {},
   "outputs": [
    {
     "data": {
      "text/html": [
       "<div>\n",
       "<style scoped>\n",
       "    .dataframe tbody tr th:only-of-type {\n",
       "        vertical-align: middle;\n",
       "    }\n",
       "\n",
       "    .dataframe tbody tr th {\n",
       "        vertical-align: top;\n",
       "    }\n",
       "\n",
       "    .dataframe thead th {\n",
       "        text-align: right;\n",
       "    }\n",
       "</style>\n",
       "<table border=\"1\" class=\"dataframe\">\n",
       "  <thead>\n",
       "    <tr style=\"text-align: right;\">\n",
       "      <th></th>\n",
       "      <th>movieId</th>\n",
       "      <th>Mean</th>\n",
       "      <th>Count</th>\n",
       "    </tr>\n",
       "  </thead>\n",
       "  <tbody>\n",
       "    <tr>\n",
       "      <th>0</th>\n",
       "      <td>1</td>\n",
       "      <td>3.893708</td>\n",
       "      <td>57309</td>\n",
       "    </tr>\n",
       "  </tbody>\n",
       "</table>\n",
       "</div>"
      ],
      "text/plain": [
       "   movieId      Mean  Count\n",
       "0        1  3.893708  57309"
      ]
     },
     "execution_count": 238,
     "metadata": {},
     "output_type": "execute_result"
    }
   ],
   "source": [
    "df_avg_rating.head(1)"
   ]
  },
  {
   "cell_type": "code",
   "execution_count": 239,
   "metadata": {},
   "outputs": [
    {
     "data": {
      "text/plain": [
       "1         1\n",
       "162388    1\n",
       "162392    1\n",
       "162394    1\n",
       "162396    1\n",
       "Name: movieId, dtype: int64"
      ]
     },
     "execution_count": 239,
     "metadata": {},
     "output_type": "execute_result"
    }
   ],
   "source": [
    "df_avg_rating['movieId'].value_counts().head(5)"
   ]
  },
  {
   "cell_type": "code",
   "execution_count": 244,
   "metadata": {},
   "outputs": [],
   "source": [
    "df_avg_rating.rename( columns = {'Count': 'Count_ratings'}, inplace = True)"
   ]
  },
  {
   "cell_type": "code",
   "execution_count": 245,
   "metadata": {},
   "outputs": [],
   "source": [
    "df = df.merge(df_avg_rating, on = 'movieId', how = 'left')"
   ]
  },
  {
   "cell_type": "code",
   "execution_count": 246,
   "metadata": {},
   "outputs": [
    {
     "data": {
      "text/html": [
       "<div>\n",
       "<style scoped>\n",
       "    .dataframe tbody tr th:only-of-type {\n",
       "        vertical-align: middle;\n",
       "    }\n",
       "\n",
       "    .dataframe tbody tr th {\n",
       "        vertical-align: top;\n",
       "    }\n",
       "\n",
       "    .dataframe thead th {\n",
       "        text-align: right;\n",
       "    }\n",
       "</style>\n",
       "<table border=\"1\" class=\"dataframe\">\n",
       "  <thead>\n",
       "    <tr style=\"text-align: right;\">\n",
       "      <th></th>\n",
       "      <th>Rank</th>\n",
       "      <th>Film</th>\n",
       "      <th>Year</th>\n",
       "      <th>Count</th>\n",
       "      <th>Running time\\n(minutes)</th>\n",
       "      <th>title_processed</th>\n",
       "      <th>movieId</th>\n",
       "      <th>title</th>\n",
       "      <th>genres</th>\n",
       "      <th>Mean</th>\n",
       "      <th>Count_ratings</th>\n",
       "    </tr>\n",
       "  </thead>\n",
       "  <tbody>\n",
       "    <tr>\n",
       "      <th>0</th>\n",
       "      <td>1.0</td>\n",
       "      <td>Swearnet: The Movie</td>\n",
       "      <td>2014</td>\n",
       "      <td>935</td>\n",
       "      <td>112</td>\n",
       "      <td>swearnetthemovie</td>\n",
       "      <td>132132</td>\n",
       "      <td>Swearnet: The Movie (2014)</td>\n",
       "      <td>Comedy</td>\n",
       "      <td>3.1</td>\n",
       "      <td>15</td>\n",
       "    </tr>\n",
       "  </tbody>\n",
       "</table>\n",
       "</div>"
      ],
      "text/plain": [
       "   Rank                 Film  Year  Count  Running time\\n(minutes)  \\\n",
       "0   1.0  Swearnet: The Movie  2014    935                      112   \n",
       "\n",
       "    title_processed  movieId                       title  genres  Mean  \\\n",
       "0  swearnetthemovie   132132  Swearnet: The Movie (2014)  Comedy   3.1   \n",
       "\n",
       "   Count_ratings  \n",
       "0             15  "
      ]
     },
     "execution_count": 246,
     "metadata": {},
     "output_type": "execute_result"
    }
   ],
   "source": [
    "df.head(1)"
   ]
  },
  {
   "cell_type": "code",
   "execution_count": 247,
   "metadata": {},
   "outputs": [
    {
     "data": {
      "text/plain": [
       "count      132.000000\n",
       "mean      4201.492424\n",
       "std       9902.520144\n",
       "min          4.000000\n",
       "25%        196.000000\n",
       "50%        658.000000\n",
       "75%       3334.500000\n",
       "max      79672.000000\n",
       "Name: Count_ratings, dtype: float64"
      ]
     },
     "execution_count": 247,
     "metadata": {},
     "output_type": "execute_result"
    }
   ],
   "source": [
    "df['Count_ratings'].describe()"
   ]
  },
  {
   "cell_type": "code",
   "execution_count": 248,
   "metadata": {},
   "outputs": [
    {
     "data": {
      "text/plain": [
       "count    132.000000\n",
       "mean       3.284216\n",
       "std        0.520599\n",
       "min        1.125000\n",
       "25%        3.085717\n",
       "50%        3.335093\n",
       "75%        3.633288\n",
       "max        4.188912\n",
       "Name: Mean, dtype: float64"
      ]
     },
     "execution_count": 248,
     "metadata": {},
     "output_type": "execute_result"
    }
   ],
   "source": [
    "df['Mean'].describe()"
   ]
  },
  {
   "cell_type": "code",
   "execution_count": null,
   "metadata": {},
   "outputs": [],
   "source": []
  }
 ],
 "metadata": {
  "kernelspec": {
   "display_name": "Python 3 (ipykernel)",
   "language": "python",
   "name": "python3"
  },
  "language_info": {
   "codemirror_mode": {
    "name": "ipython",
    "version": 3
   },
   "file_extension": ".py",
   "mimetype": "text/x-python",
   "name": "python",
   "nbconvert_exporter": "python",
   "pygments_lexer": "ipython3",
   "version": "3.7.6"
  }
 },
 "nbformat": 4,
 "nbformat_minor": 4
}
